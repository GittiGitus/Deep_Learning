{
 "cells": [
  {
   "cell_type": "markdown",
   "metadata": {},
   "source": [
    "    Use log soft max because it is numericaly more stable!\n",
    "\n",
    "    It is worse to class a customer as good when they are bad, than it is to class a customer as bad when they are good.\n",
    "    \n",
    "\n",
    "    Are there Biases ???? (i.e. race, gender, age, etc.) \n",
    "\n",
    "    Is foreign worker okay to use as a feature, because it could be a bias?\n",
    "    \n",
    "    How to handle unbalance in data?"
   ]
  },
  {
   "cell_type": "markdown",
   "metadata": {},
   "source": [
    "**Dataset Citation:** <br>\n",
    "Hofmann,Hans. (1994). Statlog (German Credit Data). UCI Machine Learning Repository. https://doi.org/10.24432/C5NC77."
   ]
  },
  {
   "cell_type": "markdown",
   "metadata": {},
   "source": [
    "# Portfolio-Exam "
   ]
  },
  {
   "cell_type": "markdown",
   "metadata": {},
   "source": [
    "#### Inports"
   ]
  },
  {
   "cell_type": "code",
   "execution_count": 3448,
   "metadata": {},
   "outputs": [],
   "source": [
    "# Imports \n",
    "import time\n",
    "import numpy as np\n",
    "import pandas as pd\n",
    "import matplotlib.pyplot as plt\n",
    "import seaborn as sns\n",
    "from sklearn import metrics as ms\n",
    "from sklearn.model_selection import GridSearchCV, StratifiedKFold, RepeatedStratifiedKFold, cross_validate\n",
    "from sklearn.svm import SVC\n",
    "from sklearn.neighbors import KNeighborsClassifier\n",
    "from sklearn.preprocessing import MinMaxScaler\n",
    "from sklearn.model_selection import train_test_split\n",
    "\n",
    "import torch\n",
    "import torch.nn as nn\n",
    "from sklearn.linear_model import LogisticRegression\n",
    "\n",
    "from sklearn.metrics import accuracy_score, classification_report, confusion_matrix\n",
    "from sklearn.dummy import DummyClassifier\n",
    "from sklearn.metrics import accuracy_score, classification_report, precision_score, recall_score, f1_score, confusion_matrix\n",
    "from sklearn.ensemble import RandomForestClassifier\n",
    "from imblearn.pipeline import Pipeline\n",
    "from imblearn.over_sampling import SMOTE\n",
    "from torch.utils.data import DataLoader, TensorDataset\n",
    "import torch.nn as nn\n",
    "import torch.optim as optim\n",
    "import matplotlib.pyplot as plt\n",
    "import copy\n",
    "\n",
    "from torch.utils.tensorboard import SummaryWriter\n",
    "torch.set_default_dtype(torch.float)\n",
    "\n"
   ]
  },
  {
   "cell_type": "markdown",
   "metadata": {},
   "source": [
    "#### Variables "
   ]
  },
  {
   "cell_type": "code",
   "execution_count": 3449,
   "metadata": {},
   "outputs": [
    {
     "data": {
      "text/plain": [
       "<torch._C.Generator at 0x763f57597c10>"
      ]
     },
     "execution_count": 3449,
     "metadata": {},
     "output_type": "execute_result"
    }
   ],
   "source": [
    "random_seed = 42\n",
    "torch.manual_seed(42)"
   ]
  },
  {
   "cell_type": "markdown",
   "metadata": {},
   "source": [
    "## Task 1 - Story"
   ]
  },
  {
   "cell_type": "markdown",
   "metadata": {},
   "source": [
    "## Task 2 - The Data"
   ]
  },
  {
   "cell_type": "markdown",
   "metadata": {},
   "source": [
    "\n",
    "\n",
    "|Variable Name| Role| Type| Demographic| Description| Units| Missing Values|\n",
    "|---|---|---|---|---|---|---|\n",
    "|Attribute1|\tFeature|\tCategorical|\t\t        |Status of existing checking account| |  no|\n",
    "|Attribute2|\tFeature|\tInteger|\t\t            |Duration|\tmonths|\tno|\n",
    "|Attribute3|\tFeature|\tCategorical|\t\t        |Credit history|\t|\tno|\n",
    "|Attribute4|\tFeature|\tCategorical|\t\t        |Purpose|\t|\tno|\n",
    "|Attribute5|\tFeature|\tInteger|\t\t            |Credit amount|\t|\tno|\n",
    "|Attribute6|\tFeature|\tCategorical|\t\t        |Savings account/bonds|\t|\tno|\n",
    "|Attribute7|\tFeature|\tCategorical|    Other|\tPresent employment since|\t\t|no|\n",
    "|Attribute8|\tFeature|\tInteger|\t\t    |Installment rate in percentage of disposable income|\t\t|no|\n",
    "|Attribute9|\tFeature|\tCategorical|    Marital Status|\tPersonal status and sex|\t\t|no|\n",
    "|Attribute10|\tFeature|\tCategorical|\t\t|Other debtors / guarantors|\t\t|no|\n",
    "|Attribute11|\tFeature|\tInteger|\t\t|Present residence since|\t|no|\n",
    "|Attribute12|\tFeature|\tCategorical|\t\t|Property|\t\t|no|\n",
    "|Attribute13|\tFeature|\tInteger|\tAge\t|Age    |years|\tno|\n",
    "|Attribute14|\tFeature|\tCategorical|\t\t|Other installment plans|\t\t|no|\n",
    "|Attribute15|\tFeature|    Categorical|\tOther|\tHousing|\t\t|no|\n",
    "|Attribute16|\tFeature|\tInteger|\t\t|Number of existing credits at this bank|\t\t|no|\n",
    "|Attribute17|\tFeature|\tCategorical|\tOccupation|\tJob\t|\t|no|\n",
    "|Attribute18|\tFeature|\tInteger|\t\t|Number of people being liable to provide maintenance for| |no|\n",
    "|Attribute19|\tFeature|\tBinary|\t\t|Telephone|\t\t|no|\n",
    "|Attribute20|\tFeature|\tBinary|\tOther\t|foreign worker|\t|no|\n",
    "|class|\tTarget|\tBinary|\t\t|1 = Good, 2 = Bad|\t\t|no|"
   ]
  },
  {
   "cell_type": "code",
   "execution_count": 3450,
   "metadata": {},
   "outputs": [
    {
     "name": "stderr",
     "output_type": "stream",
     "text": [
      "/tmp/ipykernel_18865/3747983735.py:2: FutureWarning: The 'delim_whitespace' keyword in pd.read_csv is deprecated and will be removed in a future version. Use ``sep='\\s+'`` instead\n",
      "  df = pd.read_csv('data/german.data', delim_whitespace=True, header=None)\n"
     ]
    }
   ],
   "source": [
    "\n",
    "\n",
    "# Load the dataset\n",
    "df = pd.read_csv('data/german.data', delim_whitespace=True, header=None)\n",
    "\n",
    "# Define column names\n",
    "columns = [\n",
    "    \"Status_of_existing_checking_account\", \"Duration_in_months\", \"Credit_history\", \n",
    "    \"Purpose\", \"Credit_amount\", \"Savings_account_bonds\", \"Present_employment_since\", \n",
    "    \"Installment_rate_as_percentage_of_disposable_income\", \"Personal_status_and_sex\", \n",
    "    \"Other_debtors_guarantors\", \"Present_residence_since\", \"Property\", \"Age_in_years\", \n",
    "    \"Other_installment_plans\", \"Housing\", \"Number_of_existing_credits_at_this_bank\", \n",
    "    \"Job\", \"Number_of_people_being_liable_to_provide_maintenance_for\", \"Telephone\", \n",
    "    \"Foreign_worker\", \"Class\"\n",
    "]\n",
    "\n",
    "# Assign column names to the dataframe\n",
    "df.columns = columns\n",
    "\n",
    "# Define the mapping for categorical values\n",
    "mappings = {\n",
    "    \"Status_of_existing_checking_account\": {\n",
    "        \"A11\": \"< 0 DM\", \"A12\": \"0 <= ... < 200 DM\", \"A13\": \">= 200 DM\", \"A14\": \"no checking account\"\n",
    "    },\n",
    "    \"Credit_history\": {\n",
    "        \"A30\": \"no credits/all credits paid back duly\", \"A31\": \"all credits at this bank paid back duly\", \n",
    "        \"A32\": \"existing credits paid back duly till now\", \"A33\": \"delay in paying off in the past\", \n",
    "        \"A34\": \"critical account/other credits existing\"\n",
    "    },\n",
    "    \"Purpose\": {\n",
    "        \"A40\": \"car (new)\", \"A41\": \"car (used)\", \"A42\": \"furniture/equipment\", \n",
    "        \"A43\": \"radio/television\", \"A44\": \"domestic appliances\", \"A45\": \"repairs\", \n",
    "        \"A46\": \"education\", \"A48\": \"retraining\", \"A49\": \"business\", \"A410\": \"others\"\n",
    "    },\n",
    "    \"Savings_account_bonds\": {\n",
    "        \"A61\": \"< 100 DM\", \"A62\": \"100 <= ... < 500 DM\", \"A63\": \"500 <= ... < 1000 DM\", \n",
    "        \"A64\": \">= 1000 DM\", \"A65\": \"unknown/ no savings account\"\n",
    "    },\n",
    "    \"Present_employment_since\": {\n",
    "        \"A71\": \"unemployed\", \"A72\": \"< 1 year\", \"A73\": \"1 <= ... < 4 years\", \n",
    "        \"A74\": \"4 <= ... < 7 years\", \"A75\": \">= 7 years\"\n",
    "    },\n",
    "    \"Personal_status_and_sex\": {\n",
    "        \"A91\": \"male : divorced/separated\", \"A92\": \"female : divorced/separated/married\", \n",
    "        \"A93\": \"male : single\", \"A94\": \"male : married/widowed\", \"A95\": \"female : single\"\n",
    "    },\n",
    "    \"Other_debtors_guarantors\": {\n",
    "        \"A101\": \"none\", \"A102\": \"co-applicant\", \"A103\": \"guarantor\"\n",
    "    },\n",
    "    \"Property\": {\n",
    "        \"A121\": \"real estate\", \"A122\": \"building society savings agreement/life insurance\", \n",
    "        \"A123\": \"car or other\", \"A124\": \"unknown / no property\"\n",
    "    },\n",
    "    \"Other_installment_plans\": {\n",
    "        \"A141\": \"bank\", \"A142\": \"stores\", \"A143\": \"none\"\n",
    "    },\n",
    "    \"Housing\": {\n",
    "        \"A151\": \"rent\", \"A152\": \"own\", \"A153\": \"for free\"\n",
    "    },\n",
    "    \"Job\": {\n",
    "        \"A171\": \"unemployed/ unskilled - non-resident\", \"A172\": \"unskilled - resident\", \n",
    "        \"A173\": \"skilled employee / official\", \"A174\": \"management/ self-employed/ highly qualified employee/ officer\"\n",
    "    },\n",
    "    \"Telephone\": {\n",
    "        \"A191\": \"none\", \"A192\": \"yes, registered under the customer's name\"\n",
    "    },\n",
    "    \"Foreign_worker\": {\n",
    "        \"A201\": \"yes\", \"A202\": \"no\"\n",
    "    },\n",
    "    \"Class\": {\n",
    "        1: \"Good\", 2: \"Bad\"\n",
    "    }\n",
    "}\n",
    "\n",
    "# Apply the mapping to the dataframe\n",
    "for column, mapping in mappings.items():\n",
    "    df[column] = df[column].map(mapping)"
   ]
  },
  {
   "cell_type": "code",
   "execution_count": 3451,
   "metadata": {},
   "outputs": [
    {
     "name": "stdout",
     "output_type": "stream",
     "text": [
      "(1000, 21)\n"
     ]
    }
   ],
   "source": [
    "# Get shape\n",
    "print(df.shape)"
   ]
  },
  {
   "cell_type": "code",
   "execution_count": 3452,
   "metadata": {},
   "outputs": [
    {
     "data": {
      "text/html": [
       "<div>\n",
       "<style scoped>\n",
       "    .dataframe tbody tr th:only-of-type {\n",
       "        vertical-align: middle;\n",
       "    }\n",
       "\n",
       "    .dataframe tbody tr th {\n",
       "        vertical-align: top;\n",
       "    }\n",
       "\n",
       "    .dataframe thead th {\n",
       "        text-align: right;\n",
       "    }\n",
       "</style>\n",
       "<table border=\"1\" class=\"dataframe\">\n",
       "  <thead>\n",
       "    <tr style=\"text-align: right;\">\n",
       "      <th></th>\n",
       "      <th>Status_of_existing_checking_account</th>\n",
       "      <th>Duration_in_months</th>\n",
       "      <th>Credit_history</th>\n",
       "      <th>Purpose</th>\n",
       "      <th>Credit_amount</th>\n",
       "      <th>Savings_account_bonds</th>\n",
       "      <th>Present_employment_since</th>\n",
       "      <th>Installment_rate_as_percentage_of_disposable_income</th>\n",
       "      <th>Personal_status_and_sex</th>\n",
       "      <th>Other_debtors_guarantors</th>\n",
       "      <th>...</th>\n",
       "      <th>Property</th>\n",
       "      <th>Age_in_years</th>\n",
       "      <th>Other_installment_plans</th>\n",
       "      <th>Housing</th>\n",
       "      <th>Number_of_existing_credits_at_this_bank</th>\n",
       "      <th>Job</th>\n",
       "      <th>Number_of_people_being_liable_to_provide_maintenance_for</th>\n",
       "      <th>Telephone</th>\n",
       "      <th>Foreign_worker</th>\n",
       "      <th>Class</th>\n",
       "    </tr>\n",
       "  </thead>\n",
       "  <tbody>\n",
       "    <tr>\n",
       "      <th>0</th>\n",
       "      <td>&lt; 0 DM</td>\n",
       "      <td>6</td>\n",
       "      <td>critical account/other credits existing</td>\n",
       "      <td>radio/television</td>\n",
       "      <td>1169</td>\n",
       "      <td>unknown/ no savings account</td>\n",
       "      <td>&gt;= 7 years</td>\n",
       "      <td>4</td>\n",
       "      <td>male : single</td>\n",
       "      <td>none</td>\n",
       "      <td>...</td>\n",
       "      <td>real estate</td>\n",
       "      <td>67</td>\n",
       "      <td>none</td>\n",
       "      <td>own</td>\n",
       "      <td>2</td>\n",
       "      <td>skilled employee / official</td>\n",
       "      <td>1</td>\n",
       "      <td>yes, registered under the customer's name</td>\n",
       "      <td>yes</td>\n",
       "      <td>Good</td>\n",
       "    </tr>\n",
       "    <tr>\n",
       "      <th>1</th>\n",
       "      <td>0 &lt;= ... &lt; 200 DM</td>\n",
       "      <td>48</td>\n",
       "      <td>existing credits paid back duly till now</td>\n",
       "      <td>radio/television</td>\n",
       "      <td>5951</td>\n",
       "      <td>&lt; 100 DM</td>\n",
       "      <td>1 &lt;= ... &lt; 4 years</td>\n",
       "      <td>2</td>\n",
       "      <td>female : divorced/separated/married</td>\n",
       "      <td>none</td>\n",
       "      <td>...</td>\n",
       "      <td>real estate</td>\n",
       "      <td>22</td>\n",
       "      <td>none</td>\n",
       "      <td>own</td>\n",
       "      <td>1</td>\n",
       "      <td>skilled employee / official</td>\n",
       "      <td>1</td>\n",
       "      <td>none</td>\n",
       "      <td>yes</td>\n",
       "      <td>Bad</td>\n",
       "    </tr>\n",
       "    <tr>\n",
       "      <th>2</th>\n",
       "      <td>no checking account</td>\n",
       "      <td>12</td>\n",
       "      <td>critical account/other credits existing</td>\n",
       "      <td>education</td>\n",
       "      <td>2096</td>\n",
       "      <td>&lt; 100 DM</td>\n",
       "      <td>4 &lt;= ... &lt; 7 years</td>\n",
       "      <td>2</td>\n",
       "      <td>male : single</td>\n",
       "      <td>none</td>\n",
       "      <td>...</td>\n",
       "      <td>real estate</td>\n",
       "      <td>49</td>\n",
       "      <td>none</td>\n",
       "      <td>own</td>\n",
       "      <td>1</td>\n",
       "      <td>unskilled - resident</td>\n",
       "      <td>2</td>\n",
       "      <td>none</td>\n",
       "      <td>yes</td>\n",
       "      <td>Good</td>\n",
       "    </tr>\n",
       "    <tr>\n",
       "      <th>3</th>\n",
       "      <td>&lt; 0 DM</td>\n",
       "      <td>42</td>\n",
       "      <td>existing credits paid back duly till now</td>\n",
       "      <td>furniture/equipment</td>\n",
       "      <td>7882</td>\n",
       "      <td>&lt; 100 DM</td>\n",
       "      <td>4 &lt;= ... &lt; 7 years</td>\n",
       "      <td>2</td>\n",
       "      <td>male : single</td>\n",
       "      <td>guarantor</td>\n",
       "      <td>...</td>\n",
       "      <td>building society savings agreement/life insurance</td>\n",
       "      <td>45</td>\n",
       "      <td>none</td>\n",
       "      <td>for free</td>\n",
       "      <td>1</td>\n",
       "      <td>skilled employee / official</td>\n",
       "      <td>2</td>\n",
       "      <td>none</td>\n",
       "      <td>yes</td>\n",
       "      <td>Good</td>\n",
       "    </tr>\n",
       "    <tr>\n",
       "      <th>4</th>\n",
       "      <td>&lt; 0 DM</td>\n",
       "      <td>24</td>\n",
       "      <td>delay in paying off in the past</td>\n",
       "      <td>car (new)</td>\n",
       "      <td>4870</td>\n",
       "      <td>&lt; 100 DM</td>\n",
       "      <td>1 &lt;= ... &lt; 4 years</td>\n",
       "      <td>3</td>\n",
       "      <td>male : single</td>\n",
       "      <td>none</td>\n",
       "      <td>...</td>\n",
       "      <td>unknown / no property</td>\n",
       "      <td>53</td>\n",
       "      <td>none</td>\n",
       "      <td>for free</td>\n",
       "      <td>2</td>\n",
       "      <td>skilled employee / official</td>\n",
       "      <td>2</td>\n",
       "      <td>none</td>\n",
       "      <td>yes</td>\n",
       "      <td>Bad</td>\n",
       "    </tr>\n",
       "  </tbody>\n",
       "</table>\n",
       "<p>5 rows × 21 columns</p>\n",
       "</div>"
      ],
      "text/plain": [
       "  Status_of_existing_checking_account  Duration_in_months  \\\n",
       "0                              < 0 DM                   6   \n",
       "1                   0 <= ... < 200 DM                  48   \n",
       "2                 no checking account                  12   \n",
       "3                              < 0 DM                  42   \n",
       "4                              < 0 DM                  24   \n",
       "\n",
       "                             Credit_history              Purpose  \\\n",
       "0   critical account/other credits existing     radio/television   \n",
       "1  existing credits paid back duly till now     radio/television   \n",
       "2   critical account/other credits existing            education   \n",
       "3  existing credits paid back duly till now  furniture/equipment   \n",
       "4           delay in paying off in the past            car (new)   \n",
       "\n",
       "   Credit_amount        Savings_account_bonds Present_employment_since  \\\n",
       "0           1169  unknown/ no savings account               >= 7 years   \n",
       "1           5951                     < 100 DM       1 <= ... < 4 years   \n",
       "2           2096                     < 100 DM       4 <= ... < 7 years   \n",
       "3           7882                     < 100 DM       4 <= ... < 7 years   \n",
       "4           4870                     < 100 DM       1 <= ... < 4 years   \n",
       "\n",
       "   Installment_rate_as_percentage_of_disposable_income  \\\n",
       "0                                                  4     \n",
       "1                                                  2     \n",
       "2                                                  2     \n",
       "3                                                  2     \n",
       "4                                                  3     \n",
       "\n",
       "               Personal_status_and_sex Other_debtors_guarantors  ...  \\\n",
       "0                        male : single                     none  ...   \n",
       "1  female : divorced/separated/married                     none  ...   \n",
       "2                        male : single                     none  ...   \n",
       "3                        male : single                guarantor  ...   \n",
       "4                        male : single                     none  ...   \n",
       "\n",
       "                                            Property Age_in_years  \\\n",
       "0                                        real estate           67   \n",
       "1                                        real estate           22   \n",
       "2                                        real estate           49   \n",
       "3  building society savings agreement/life insurance           45   \n",
       "4                              unknown / no property           53   \n",
       "\n",
       "   Other_installment_plans   Housing Number_of_existing_credits_at_this_bank  \\\n",
       "0                     none       own                                       2   \n",
       "1                     none       own                                       1   \n",
       "2                     none       own                                       1   \n",
       "3                     none  for free                                       1   \n",
       "4                     none  for free                                       2   \n",
       "\n",
       "                           Job  \\\n",
       "0  skilled employee / official   \n",
       "1  skilled employee / official   \n",
       "2         unskilled - resident   \n",
       "3  skilled employee / official   \n",
       "4  skilled employee / official   \n",
       "\n",
       "  Number_of_people_being_liable_to_provide_maintenance_for  \\\n",
       "0                                                  1         \n",
       "1                                                  1         \n",
       "2                                                  2         \n",
       "3                                                  2         \n",
       "4                                                  2         \n",
       "\n",
       "                                   Telephone Foreign_worker Class  \n",
       "0  yes, registered under the customer's name            yes  Good  \n",
       "1                                       none            yes   Bad  \n",
       "2                                       none            yes  Good  \n",
       "3                                       none            yes  Good  \n",
       "4                                       none            yes   Bad  \n",
       "\n",
       "[5 rows x 21 columns]"
      ]
     },
     "execution_count": 3452,
     "metadata": {},
     "output_type": "execute_result"
    }
   ],
   "source": [
    "df.head()"
   ]
  },
  {
   "cell_type": "markdown",
   "metadata": {
    "vscode": {
     "languageId": "latex"
    }
   },
   "source": [
    "**Dataset Citation:** <br>\n",
    "Hofmann,Hans. (1994). Statlog (German Credit Data). UCI Machine Learning Repository. https://doi.org/10.24432/C5NC77."
   ]
  },
  {
   "cell_type": "markdown",
   "metadata": {},
   "source": [
    "## Task 3 - IDA"
   ]
  },
  {
   "cell_type": "code",
   "execution_count": 3453,
   "metadata": {},
   "outputs": [],
   "source": [
    "def calc_dist_class(data, name, binary):\n",
    "    \"\"\"Calculate the distribution of the classes in the dataset.\n",
    "    Args:\n",
    "        data (dataframe): dataset.\n",
    "        name (string): name of the dataset.\n",
    "        binary (bool): True if the dataset is binary, False if not.\n",
    "    Returns:\n",
    "        None\n",
    "    \"\"\"\n",
    "    if binary:\n",
    "        class_counts = np.bincount(data)\n",
    "    else: \n",
    "        class_counts = data['Class'].value_counts()\n",
    "\n",
    "    class_frequencies = np.array(class_counts) / len(data)\n",
    "    print(f'The number of good transactions in {name} is: {class_counts.iloc[0]} and the number of bad transactions in {name} is: {class_counts.iloc[1]}.')\n",
    "    print(f'The percentage of good transactions in {name} is: {class_frequencies[0]*100:.0f}% and percentage of bad transactions in {name} is: {class_frequencies[1]*100:.0f}%.')"
   ]
  },
  {
   "cell_type": "code",
   "execution_count": 3454,
   "metadata": {},
   "outputs": [],
   "source": [
    "def initial_data_analysis(df, name):\n",
    "    \"\"\"\n",
    "    Gives information about the dataframe for a quick overview.\n",
    "    Args:\n",
    "        df (pandas.DataFrame): The dataframe to be analysed.\n",
    "        name (str): The name of the dataframe.\n",
    "    Returns:\n",
    "        None\n",
    "    \"\"\"\n",
    "    print(f'Initial data analysis for {name}:\\n')\n",
    "    print(f'Shape: {df.shape}\\n')\n",
    "\n",
    "    # Look at the distribution of the target variable\n",
    "    calc_dist_class(df, name, False)\n",
    "\n",
    "    column_name = []\n",
    "    dtype = []\n",
    "    count = []\n",
    "    unique = []\n",
    "    missing_values = []\n",
    "    # Create a list of column names, data types, number of non-null values, number of unique values, and number of missing values\n",
    "    for column in df.columns:\n",
    "        column_name.append(column)\n",
    "        dtype.append(df[column].dtype)\n",
    "        count.append(df[column].count())\n",
    "        unique.append(df[column].nunique())\n",
    "        missing_values.append(df[column].isna().sum())\n",
    "\n",
    "    # Create a dataframe consisting of the lists\n",
    "    overview_values = pd.DataFrame({'column_name': column_name, 'dtype': dtype, 'count': count, 'unique': unique, 'missing_values': missing_values})\n",
    "    display(overview_values)\n",
    "    \n",
    "    # Sum up all the values in missing_values to get the total number of missing values\n",
    "    missing_val = sum(missing_values)\n",
    "    total_cells = np.prod(df.shape)\n",
    "    print(f'Sum of missing values: {missing_val}\\n') \n",
    "    print(f'Percentage of null values: {missing_val/total_cells*100:.2f}%\\n') \n",
    "\n",
    "    # Check for duplicates \n",
    "    if df.duplicated().sum() == 0:\n",
    "        print('No duplicates found.\\n')\n",
    "    else:\n",
    "        print('Duplicates found.\\n')\n",
    "\n",
    "    print('Head:')\n",
    "    display(df.head())\n",
    "\n",
    "    # Get descriptive statistics for the numerical columns\n",
    "    print('Descriptive statistics for numerical columns:')\n",
    "    display(df.describe().round(2))\n",
    "    print(' ') # Do a linebreak"
   ]
  },
  {
   "cell_type": "code",
   "execution_count": 3455,
   "metadata": {},
   "outputs": [
    {
     "name": "stdout",
     "output_type": "stream",
     "text": [
      "Initial data analysis for German Credit Data:\n",
      "\n",
      "Shape: (1000, 21)\n",
      "\n",
      "The number of good transactions in German Credit Data is: 700 and the number of bad transactions in German Credit Data is: 300.\n",
      "The percentage of good transactions in German Credit Data is: 70% and percentage of bad transactions in German Credit Data is: 30%.\n"
     ]
    },
    {
     "data": {
      "text/html": [
       "<div>\n",
       "<style scoped>\n",
       "    .dataframe tbody tr th:only-of-type {\n",
       "        vertical-align: middle;\n",
       "    }\n",
       "\n",
       "    .dataframe tbody tr th {\n",
       "        vertical-align: top;\n",
       "    }\n",
       "\n",
       "    .dataframe thead th {\n",
       "        text-align: right;\n",
       "    }\n",
       "</style>\n",
       "<table border=\"1\" class=\"dataframe\">\n",
       "  <thead>\n",
       "    <tr style=\"text-align: right;\">\n",
       "      <th></th>\n",
       "      <th>column_name</th>\n",
       "      <th>dtype</th>\n",
       "      <th>count</th>\n",
       "      <th>unique</th>\n",
       "      <th>missing_values</th>\n",
       "    </tr>\n",
       "  </thead>\n",
       "  <tbody>\n",
       "    <tr>\n",
       "      <th>0</th>\n",
       "      <td>Status_of_existing_checking_account</td>\n",
       "      <td>object</td>\n",
       "      <td>1000</td>\n",
       "      <td>4</td>\n",
       "      <td>0</td>\n",
       "    </tr>\n",
       "    <tr>\n",
       "      <th>1</th>\n",
       "      <td>Duration_in_months</td>\n",
       "      <td>int64</td>\n",
       "      <td>1000</td>\n",
       "      <td>33</td>\n",
       "      <td>0</td>\n",
       "    </tr>\n",
       "    <tr>\n",
       "      <th>2</th>\n",
       "      <td>Credit_history</td>\n",
       "      <td>object</td>\n",
       "      <td>1000</td>\n",
       "      <td>5</td>\n",
       "      <td>0</td>\n",
       "    </tr>\n",
       "    <tr>\n",
       "      <th>3</th>\n",
       "      <td>Purpose</td>\n",
       "      <td>object</td>\n",
       "      <td>1000</td>\n",
       "      <td>10</td>\n",
       "      <td>0</td>\n",
       "    </tr>\n",
       "    <tr>\n",
       "      <th>4</th>\n",
       "      <td>Credit_amount</td>\n",
       "      <td>int64</td>\n",
       "      <td>1000</td>\n",
       "      <td>921</td>\n",
       "      <td>0</td>\n",
       "    </tr>\n",
       "    <tr>\n",
       "      <th>5</th>\n",
       "      <td>Savings_account_bonds</td>\n",
       "      <td>object</td>\n",
       "      <td>1000</td>\n",
       "      <td>5</td>\n",
       "      <td>0</td>\n",
       "    </tr>\n",
       "    <tr>\n",
       "      <th>6</th>\n",
       "      <td>Present_employment_since</td>\n",
       "      <td>object</td>\n",
       "      <td>1000</td>\n",
       "      <td>5</td>\n",
       "      <td>0</td>\n",
       "    </tr>\n",
       "    <tr>\n",
       "      <th>7</th>\n",
       "      <td>Installment_rate_as_percentage_of_disposable_i...</td>\n",
       "      <td>int64</td>\n",
       "      <td>1000</td>\n",
       "      <td>4</td>\n",
       "      <td>0</td>\n",
       "    </tr>\n",
       "    <tr>\n",
       "      <th>8</th>\n",
       "      <td>Personal_status_and_sex</td>\n",
       "      <td>object</td>\n",
       "      <td>1000</td>\n",
       "      <td>4</td>\n",
       "      <td>0</td>\n",
       "    </tr>\n",
       "    <tr>\n",
       "      <th>9</th>\n",
       "      <td>Other_debtors_guarantors</td>\n",
       "      <td>object</td>\n",
       "      <td>1000</td>\n",
       "      <td>3</td>\n",
       "      <td>0</td>\n",
       "    </tr>\n",
       "    <tr>\n",
       "      <th>10</th>\n",
       "      <td>Present_residence_since</td>\n",
       "      <td>int64</td>\n",
       "      <td>1000</td>\n",
       "      <td>4</td>\n",
       "      <td>0</td>\n",
       "    </tr>\n",
       "    <tr>\n",
       "      <th>11</th>\n",
       "      <td>Property</td>\n",
       "      <td>object</td>\n",
       "      <td>1000</td>\n",
       "      <td>4</td>\n",
       "      <td>0</td>\n",
       "    </tr>\n",
       "    <tr>\n",
       "      <th>12</th>\n",
       "      <td>Age_in_years</td>\n",
       "      <td>int64</td>\n",
       "      <td>1000</td>\n",
       "      <td>53</td>\n",
       "      <td>0</td>\n",
       "    </tr>\n",
       "    <tr>\n",
       "      <th>13</th>\n",
       "      <td>Other_installment_plans</td>\n",
       "      <td>object</td>\n",
       "      <td>1000</td>\n",
       "      <td>3</td>\n",
       "      <td>0</td>\n",
       "    </tr>\n",
       "    <tr>\n",
       "      <th>14</th>\n",
       "      <td>Housing</td>\n",
       "      <td>object</td>\n",
       "      <td>1000</td>\n",
       "      <td>3</td>\n",
       "      <td>0</td>\n",
       "    </tr>\n",
       "    <tr>\n",
       "      <th>15</th>\n",
       "      <td>Number_of_existing_credits_at_this_bank</td>\n",
       "      <td>int64</td>\n",
       "      <td>1000</td>\n",
       "      <td>4</td>\n",
       "      <td>0</td>\n",
       "    </tr>\n",
       "    <tr>\n",
       "      <th>16</th>\n",
       "      <td>Job</td>\n",
       "      <td>object</td>\n",
       "      <td>1000</td>\n",
       "      <td>4</td>\n",
       "      <td>0</td>\n",
       "    </tr>\n",
       "    <tr>\n",
       "      <th>17</th>\n",
       "      <td>Number_of_people_being_liable_to_provide_maint...</td>\n",
       "      <td>int64</td>\n",
       "      <td>1000</td>\n",
       "      <td>2</td>\n",
       "      <td>0</td>\n",
       "    </tr>\n",
       "    <tr>\n",
       "      <th>18</th>\n",
       "      <td>Telephone</td>\n",
       "      <td>object</td>\n",
       "      <td>1000</td>\n",
       "      <td>2</td>\n",
       "      <td>0</td>\n",
       "    </tr>\n",
       "    <tr>\n",
       "      <th>19</th>\n",
       "      <td>Foreign_worker</td>\n",
       "      <td>object</td>\n",
       "      <td>1000</td>\n",
       "      <td>2</td>\n",
       "      <td>0</td>\n",
       "    </tr>\n",
       "    <tr>\n",
       "      <th>20</th>\n",
       "      <td>Class</td>\n",
       "      <td>object</td>\n",
       "      <td>1000</td>\n",
       "      <td>2</td>\n",
       "      <td>0</td>\n",
       "    </tr>\n",
       "  </tbody>\n",
       "</table>\n",
       "</div>"
      ],
      "text/plain": [
       "                                          column_name   dtype  count  unique  \\\n",
       "0                 Status_of_existing_checking_account  object   1000       4   \n",
       "1                                  Duration_in_months   int64   1000      33   \n",
       "2                                      Credit_history  object   1000       5   \n",
       "3                                             Purpose  object   1000      10   \n",
       "4                                       Credit_amount   int64   1000     921   \n",
       "5                               Savings_account_bonds  object   1000       5   \n",
       "6                            Present_employment_since  object   1000       5   \n",
       "7   Installment_rate_as_percentage_of_disposable_i...   int64   1000       4   \n",
       "8                             Personal_status_and_sex  object   1000       4   \n",
       "9                            Other_debtors_guarantors  object   1000       3   \n",
       "10                            Present_residence_since   int64   1000       4   \n",
       "11                                           Property  object   1000       4   \n",
       "12                                       Age_in_years   int64   1000      53   \n",
       "13                            Other_installment_plans  object   1000       3   \n",
       "14                                            Housing  object   1000       3   \n",
       "15            Number_of_existing_credits_at_this_bank   int64   1000       4   \n",
       "16                                                Job  object   1000       4   \n",
       "17  Number_of_people_being_liable_to_provide_maint...   int64   1000       2   \n",
       "18                                          Telephone  object   1000       2   \n",
       "19                                     Foreign_worker  object   1000       2   \n",
       "20                                              Class  object   1000       2   \n",
       "\n",
       "    missing_values  \n",
       "0                0  \n",
       "1                0  \n",
       "2                0  \n",
       "3                0  \n",
       "4                0  \n",
       "5                0  \n",
       "6                0  \n",
       "7                0  \n",
       "8                0  \n",
       "9                0  \n",
       "10               0  \n",
       "11               0  \n",
       "12               0  \n",
       "13               0  \n",
       "14               0  \n",
       "15               0  \n",
       "16               0  \n",
       "17               0  \n",
       "18               0  \n",
       "19               0  \n",
       "20               0  "
      ]
     },
     "metadata": {},
     "output_type": "display_data"
    },
    {
     "name": "stdout",
     "output_type": "stream",
     "text": [
      "Sum of missing values: 0\n",
      "\n",
      "Percentage of null values: 0.00%\n",
      "\n",
      "No duplicates found.\n",
      "\n",
      "Head:\n"
     ]
    },
    {
     "data": {
      "text/html": [
       "<div>\n",
       "<style scoped>\n",
       "    .dataframe tbody tr th:only-of-type {\n",
       "        vertical-align: middle;\n",
       "    }\n",
       "\n",
       "    .dataframe tbody tr th {\n",
       "        vertical-align: top;\n",
       "    }\n",
       "\n",
       "    .dataframe thead th {\n",
       "        text-align: right;\n",
       "    }\n",
       "</style>\n",
       "<table border=\"1\" class=\"dataframe\">\n",
       "  <thead>\n",
       "    <tr style=\"text-align: right;\">\n",
       "      <th></th>\n",
       "      <th>Status_of_existing_checking_account</th>\n",
       "      <th>Duration_in_months</th>\n",
       "      <th>Credit_history</th>\n",
       "      <th>Purpose</th>\n",
       "      <th>Credit_amount</th>\n",
       "      <th>Savings_account_bonds</th>\n",
       "      <th>Present_employment_since</th>\n",
       "      <th>Installment_rate_as_percentage_of_disposable_income</th>\n",
       "      <th>Personal_status_and_sex</th>\n",
       "      <th>Other_debtors_guarantors</th>\n",
       "      <th>...</th>\n",
       "      <th>Property</th>\n",
       "      <th>Age_in_years</th>\n",
       "      <th>Other_installment_plans</th>\n",
       "      <th>Housing</th>\n",
       "      <th>Number_of_existing_credits_at_this_bank</th>\n",
       "      <th>Job</th>\n",
       "      <th>Number_of_people_being_liable_to_provide_maintenance_for</th>\n",
       "      <th>Telephone</th>\n",
       "      <th>Foreign_worker</th>\n",
       "      <th>Class</th>\n",
       "    </tr>\n",
       "  </thead>\n",
       "  <tbody>\n",
       "    <tr>\n",
       "      <th>0</th>\n",
       "      <td>&lt; 0 DM</td>\n",
       "      <td>6</td>\n",
       "      <td>critical account/other credits existing</td>\n",
       "      <td>radio/television</td>\n",
       "      <td>1169</td>\n",
       "      <td>unknown/ no savings account</td>\n",
       "      <td>&gt;= 7 years</td>\n",
       "      <td>4</td>\n",
       "      <td>male : single</td>\n",
       "      <td>none</td>\n",
       "      <td>...</td>\n",
       "      <td>real estate</td>\n",
       "      <td>67</td>\n",
       "      <td>none</td>\n",
       "      <td>own</td>\n",
       "      <td>2</td>\n",
       "      <td>skilled employee / official</td>\n",
       "      <td>1</td>\n",
       "      <td>yes, registered under the customer's name</td>\n",
       "      <td>yes</td>\n",
       "      <td>Good</td>\n",
       "    </tr>\n",
       "    <tr>\n",
       "      <th>1</th>\n",
       "      <td>0 &lt;= ... &lt; 200 DM</td>\n",
       "      <td>48</td>\n",
       "      <td>existing credits paid back duly till now</td>\n",
       "      <td>radio/television</td>\n",
       "      <td>5951</td>\n",
       "      <td>&lt; 100 DM</td>\n",
       "      <td>1 &lt;= ... &lt; 4 years</td>\n",
       "      <td>2</td>\n",
       "      <td>female : divorced/separated/married</td>\n",
       "      <td>none</td>\n",
       "      <td>...</td>\n",
       "      <td>real estate</td>\n",
       "      <td>22</td>\n",
       "      <td>none</td>\n",
       "      <td>own</td>\n",
       "      <td>1</td>\n",
       "      <td>skilled employee / official</td>\n",
       "      <td>1</td>\n",
       "      <td>none</td>\n",
       "      <td>yes</td>\n",
       "      <td>Bad</td>\n",
       "    </tr>\n",
       "    <tr>\n",
       "      <th>2</th>\n",
       "      <td>no checking account</td>\n",
       "      <td>12</td>\n",
       "      <td>critical account/other credits existing</td>\n",
       "      <td>education</td>\n",
       "      <td>2096</td>\n",
       "      <td>&lt; 100 DM</td>\n",
       "      <td>4 &lt;= ... &lt; 7 years</td>\n",
       "      <td>2</td>\n",
       "      <td>male : single</td>\n",
       "      <td>none</td>\n",
       "      <td>...</td>\n",
       "      <td>real estate</td>\n",
       "      <td>49</td>\n",
       "      <td>none</td>\n",
       "      <td>own</td>\n",
       "      <td>1</td>\n",
       "      <td>unskilled - resident</td>\n",
       "      <td>2</td>\n",
       "      <td>none</td>\n",
       "      <td>yes</td>\n",
       "      <td>Good</td>\n",
       "    </tr>\n",
       "    <tr>\n",
       "      <th>3</th>\n",
       "      <td>&lt; 0 DM</td>\n",
       "      <td>42</td>\n",
       "      <td>existing credits paid back duly till now</td>\n",
       "      <td>furniture/equipment</td>\n",
       "      <td>7882</td>\n",
       "      <td>&lt; 100 DM</td>\n",
       "      <td>4 &lt;= ... &lt; 7 years</td>\n",
       "      <td>2</td>\n",
       "      <td>male : single</td>\n",
       "      <td>guarantor</td>\n",
       "      <td>...</td>\n",
       "      <td>building society savings agreement/life insurance</td>\n",
       "      <td>45</td>\n",
       "      <td>none</td>\n",
       "      <td>for free</td>\n",
       "      <td>1</td>\n",
       "      <td>skilled employee / official</td>\n",
       "      <td>2</td>\n",
       "      <td>none</td>\n",
       "      <td>yes</td>\n",
       "      <td>Good</td>\n",
       "    </tr>\n",
       "    <tr>\n",
       "      <th>4</th>\n",
       "      <td>&lt; 0 DM</td>\n",
       "      <td>24</td>\n",
       "      <td>delay in paying off in the past</td>\n",
       "      <td>car (new)</td>\n",
       "      <td>4870</td>\n",
       "      <td>&lt; 100 DM</td>\n",
       "      <td>1 &lt;= ... &lt; 4 years</td>\n",
       "      <td>3</td>\n",
       "      <td>male : single</td>\n",
       "      <td>none</td>\n",
       "      <td>...</td>\n",
       "      <td>unknown / no property</td>\n",
       "      <td>53</td>\n",
       "      <td>none</td>\n",
       "      <td>for free</td>\n",
       "      <td>2</td>\n",
       "      <td>skilled employee / official</td>\n",
       "      <td>2</td>\n",
       "      <td>none</td>\n",
       "      <td>yes</td>\n",
       "      <td>Bad</td>\n",
       "    </tr>\n",
       "  </tbody>\n",
       "</table>\n",
       "<p>5 rows × 21 columns</p>\n",
       "</div>"
      ],
      "text/plain": [
       "  Status_of_existing_checking_account  Duration_in_months  \\\n",
       "0                              < 0 DM                   6   \n",
       "1                   0 <= ... < 200 DM                  48   \n",
       "2                 no checking account                  12   \n",
       "3                              < 0 DM                  42   \n",
       "4                              < 0 DM                  24   \n",
       "\n",
       "                             Credit_history              Purpose  \\\n",
       "0   critical account/other credits existing     radio/television   \n",
       "1  existing credits paid back duly till now     radio/television   \n",
       "2   critical account/other credits existing            education   \n",
       "3  existing credits paid back duly till now  furniture/equipment   \n",
       "4           delay in paying off in the past            car (new)   \n",
       "\n",
       "   Credit_amount        Savings_account_bonds Present_employment_since  \\\n",
       "0           1169  unknown/ no savings account               >= 7 years   \n",
       "1           5951                     < 100 DM       1 <= ... < 4 years   \n",
       "2           2096                     < 100 DM       4 <= ... < 7 years   \n",
       "3           7882                     < 100 DM       4 <= ... < 7 years   \n",
       "4           4870                     < 100 DM       1 <= ... < 4 years   \n",
       "\n",
       "   Installment_rate_as_percentage_of_disposable_income  \\\n",
       "0                                                  4     \n",
       "1                                                  2     \n",
       "2                                                  2     \n",
       "3                                                  2     \n",
       "4                                                  3     \n",
       "\n",
       "               Personal_status_and_sex Other_debtors_guarantors  ...  \\\n",
       "0                        male : single                     none  ...   \n",
       "1  female : divorced/separated/married                     none  ...   \n",
       "2                        male : single                     none  ...   \n",
       "3                        male : single                guarantor  ...   \n",
       "4                        male : single                     none  ...   \n",
       "\n",
       "                                            Property Age_in_years  \\\n",
       "0                                        real estate           67   \n",
       "1                                        real estate           22   \n",
       "2                                        real estate           49   \n",
       "3  building society savings agreement/life insurance           45   \n",
       "4                              unknown / no property           53   \n",
       "\n",
       "   Other_installment_plans   Housing Number_of_existing_credits_at_this_bank  \\\n",
       "0                     none       own                                       2   \n",
       "1                     none       own                                       1   \n",
       "2                     none       own                                       1   \n",
       "3                     none  for free                                       1   \n",
       "4                     none  for free                                       2   \n",
       "\n",
       "                           Job  \\\n",
       "0  skilled employee / official   \n",
       "1  skilled employee / official   \n",
       "2         unskilled - resident   \n",
       "3  skilled employee / official   \n",
       "4  skilled employee / official   \n",
       "\n",
       "  Number_of_people_being_liable_to_provide_maintenance_for  \\\n",
       "0                                                  1         \n",
       "1                                                  1         \n",
       "2                                                  2         \n",
       "3                                                  2         \n",
       "4                                                  2         \n",
       "\n",
       "                                   Telephone Foreign_worker Class  \n",
       "0  yes, registered under the customer's name            yes  Good  \n",
       "1                                       none            yes   Bad  \n",
       "2                                       none            yes  Good  \n",
       "3                                       none            yes  Good  \n",
       "4                                       none            yes   Bad  \n",
       "\n",
       "[5 rows x 21 columns]"
      ]
     },
     "metadata": {},
     "output_type": "display_data"
    },
    {
     "name": "stdout",
     "output_type": "stream",
     "text": [
      "Descriptive statistics for numerical columns:\n"
     ]
    },
    {
     "data": {
      "text/html": [
       "<div>\n",
       "<style scoped>\n",
       "    .dataframe tbody tr th:only-of-type {\n",
       "        vertical-align: middle;\n",
       "    }\n",
       "\n",
       "    .dataframe tbody tr th {\n",
       "        vertical-align: top;\n",
       "    }\n",
       "\n",
       "    .dataframe thead th {\n",
       "        text-align: right;\n",
       "    }\n",
       "</style>\n",
       "<table border=\"1\" class=\"dataframe\">\n",
       "  <thead>\n",
       "    <tr style=\"text-align: right;\">\n",
       "      <th></th>\n",
       "      <th>Duration_in_months</th>\n",
       "      <th>Credit_amount</th>\n",
       "      <th>Installment_rate_as_percentage_of_disposable_income</th>\n",
       "      <th>Present_residence_since</th>\n",
       "      <th>Age_in_years</th>\n",
       "      <th>Number_of_existing_credits_at_this_bank</th>\n",
       "      <th>Number_of_people_being_liable_to_provide_maintenance_for</th>\n",
       "    </tr>\n",
       "  </thead>\n",
       "  <tbody>\n",
       "    <tr>\n",
       "      <th>count</th>\n",
       "      <td>1000.00</td>\n",
       "      <td>1000.00</td>\n",
       "      <td>1000.00</td>\n",
       "      <td>1000.00</td>\n",
       "      <td>1000.00</td>\n",
       "      <td>1000.00</td>\n",
       "      <td>1000.00</td>\n",
       "    </tr>\n",
       "    <tr>\n",
       "      <th>mean</th>\n",
       "      <td>20.90</td>\n",
       "      <td>3271.26</td>\n",
       "      <td>2.97</td>\n",
       "      <td>2.84</td>\n",
       "      <td>35.55</td>\n",
       "      <td>1.41</td>\n",
       "      <td>1.16</td>\n",
       "    </tr>\n",
       "    <tr>\n",
       "      <th>std</th>\n",
       "      <td>12.06</td>\n",
       "      <td>2822.74</td>\n",
       "      <td>1.12</td>\n",
       "      <td>1.10</td>\n",
       "      <td>11.38</td>\n",
       "      <td>0.58</td>\n",
       "      <td>0.36</td>\n",
       "    </tr>\n",
       "    <tr>\n",
       "      <th>min</th>\n",
       "      <td>4.00</td>\n",
       "      <td>250.00</td>\n",
       "      <td>1.00</td>\n",
       "      <td>1.00</td>\n",
       "      <td>19.00</td>\n",
       "      <td>1.00</td>\n",
       "      <td>1.00</td>\n",
       "    </tr>\n",
       "    <tr>\n",
       "      <th>25%</th>\n",
       "      <td>12.00</td>\n",
       "      <td>1365.50</td>\n",
       "      <td>2.00</td>\n",
       "      <td>2.00</td>\n",
       "      <td>27.00</td>\n",
       "      <td>1.00</td>\n",
       "      <td>1.00</td>\n",
       "    </tr>\n",
       "    <tr>\n",
       "      <th>50%</th>\n",
       "      <td>18.00</td>\n",
       "      <td>2319.50</td>\n",
       "      <td>3.00</td>\n",
       "      <td>3.00</td>\n",
       "      <td>33.00</td>\n",
       "      <td>1.00</td>\n",
       "      <td>1.00</td>\n",
       "    </tr>\n",
       "    <tr>\n",
       "      <th>75%</th>\n",
       "      <td>24.00</td>\n",
       "      <td>3972.25</td>\n",
       "      <td>4.00</td>\n",
       "      <td>4.00</td>\n",
       "      <td>42.00</td>\n",
       "      <td>2.00</td>\n",
       "      <td>1.00</td>\n",
       "    </tr>\n",
       "    <tr>\n",
       "      <th>max</th>\n",
       "      <td>72.00</td>\n",
       "      <td>18424.00</td>\n",
       "      <td>4.00</td>\n",
       "      <td>4.00</td>\n",
       "      <td>75.00</td>\n",
       "      <td>4.00</td>\n",
       "      <td>2.00</td>\n",
       "    </tr>\n",
       "  </tbody>\n",
       "</table>\n",
       "</div>"
      ],
      "text/plain": [
       "       Duration_in_months  Credit_amount  \\\n",
       "count             1000.00        1000.00   \n",
       "mean                20.90        3271.26   \n",
       "std                 12.06        2822.74   \n",
       "min                  4.00         250.00   \n",
       "25%                 12.00        1365.50   \n",
       "50%                 18.00        2319.50   \n",
       "75%                 24.00        3972.25   \n",
       "max                 72.00       18424.00   \n",
       "\n",
       "       Installment_rate_as_percentage_of_disposable_income  \\\n",
       "count                                            1000.00     \n",
       "mean                                                2.97     \n",
       "std                                                 1.12     \n",
       "min                                                 1.00     \n",
       "25%                                                 2.00     \n",
       "50%                                                 3.00     \n",
       "75%                                                 4.00     \n",
       "max                                                 4.00     \n",
       "\n",
       "       Present_residence_since  Age_in_years  \\\n",
       "count                  1000.00       1000.00   \n",
       "mean                      2.84         35.55   \n",
       "std                       1.10         11.38   \n",
       "min                       1.00         19.00   \n",
       "25%                       2.00         27.00   \n",
       "50%                       3.00         33.00   \n",
       "75%                       4.00         42.00   \n",
       "max                       4.00         75.00   \n",
       "\n",
       "       Number_of_existing_credits_at_this_bank  \\\n",
       "count                                  1000.00   \n",
       "mean                                      1.41   \n",
       "std                                       0.58   \n",
       "min                                       1.00   \n",
       "25%                                       1.00   \n",
       "50%                                       1.00   \n",
       "75%                                       2.00   \n",
       "max                                       4.00   \n",
       "\n",
       "       Number_of_people_being_liable_to_provide_maintenance_for  \n",
       "count                                            1000.00         \n",
       "mean                                                1.16         \n",
       "std                                                 0.36         \n",
       "min                                                 1.00         \n",
       "25%                                                 1.00         \n",
       "50%                                                 1.00         \n",
       "75%                                                 1.00         \n",
       "max                                                 2.00         "
      ]
     },
     "metadata": {},
     "output_type": "display_data"
    },
    {
     "name": "stdout",
     "output_type": "stream",
     "text": [
      " \n"
     ]
    }
   ],
   "source": [
    "# Perform initial data analysis\n",
    "initial_data_analysis(df, 'German Credit Data')"
   ]
  },
  {
   "cell_type": "markdown",
   "metadata": {},
   "source": [
    "#### Visualize the distribution of the Classes"
   ]
  },
  {
   "cell_type": "code",
   "execution_count": 3456,
   "metadata": {},
   "outputs": [
    {
     "data": {
      "image/png": "[encoded data removed]",
      "text/plain": [
       "<Figure size 640x480 with 1 Axes>"
      ]
     },
     "metadata": {},
     "output_type": "display_data"
    }
   ],
   "source": [
    "# Count the number of samples in each class\n",
    "class_counts = df['Class'].value_counts()\n",
    "\n",
    "# Define colors for the pie slices\n",
    "colors = ['#7cc8ee', 'red']\n",
    "\n",
    "# Create a pie chart\n",
    "fig, ax = plt.subplots()\n",
    "pie = ax.pie(class_counts, labels=['Good', 'Bad'], colors=colors, autopct='%1.2f%%', startangle=90)\n",
    "for label in pie[1]: # Set the label color to white so it's invisible\n",
    "    label.set_color('white')\n",
    "ax.legend(pie[0], ['Good', 'Bad'], loc='upper right') # Add a legend\n",
    "ax.set_title('Distribution of Good and Bad Credit Classes') # Add a title\n",
    "ax.axis('equal')\n",
    "plt.show()\n",
    "\n"
   ]
  },
  {
   "cell_type": "markdown",
   "metadata": {},
   "source": [
    "#### Visualize the distribution of the credit amount"
   ]
  },
  {
   "cell_type": "code",
   "execution_count": 3457,
   "metadata": {},
   "outputs": [
    {
     "data": {
      "image/png": "[encoded data removed]",
      "text/plain": [
       "<Figure size 1400x500 with 2 Axes>"
      ]
     },
     "metadata": {},
     "output_type": "display_data"
    }
   ],
   "source": [
    "# Set up the matplotlib figure\n",
    "fig, axs = plt.subplots(1, 2, figsize=(14, 5))\n",
    "\n",
    "# Distribution of Credit Amount\n",
    "sns.histplot(df['Credit_amount'], kde=True, ax=axs[0])\n",
    "axs[0].set_title('Distribution of Credit Amount')\n",
    "axs[0].set_xlabel('Credit Amount')\n",
    "axs[0].set_ylabel('Frequency')\n",
    "\n",
    "# Box plot of Credit Amount\n",
    "sns.boxplot(x=df['Credit_amount'], ax=axs[1])\n",
    "axs[1].set_title('Box Plot of Credit Amount')\n",
    "axs[1].set_xlabel('Credit Amount')\n",
    "\n",
    "plt.tight_layout()\n",
    "plt.show()"
   ]
  },
  {
   "cell_type": "markdown",
   "metadata": {},
   "source": [
    "#### Visualize the distribution of the duration of the credit"
   ]
  },
  {
   "cell_type": "code",
   "execution_count": 3458,
   "metadata": {},
   "outputs": [
    {
     "data": {
      "image/png": "[encoded data removed]",
      "text/plain": [
       "<Figure size 1400x500 with 2 Axes>"
      ]
     },
     "metadata": {},
     "output_type": "display_data"
    }
   ],
   "source": [
    "# Set up the matplotlib figure\n",
    "fig, axs = plt.subplots(1, 2, figsize=(14, 5))\n",
    "\n",
    "# Distribution of Duration in Months\n",
    "sns.histplot(df['Duration_in_months'], kde=True, ax=axs[0])\n",
    "axs[0].set_title('Distribution of Duration in Months')\n",
    "axs[0].set_xlabel('Duration in Months')\n",
    "axs[0].set_ylabel('Frequency')\n",
    "\n",
    "# Box plot of Duration in Months\n",
    "sns.boxplot(x=df['Duration_in_months'], ax=axs[1])\n",
    "axs[1].set_title('Box Plot of Duration in Months')\n",
    "axs[1].set_xlabel('Duration in Months')\n",
    "\n",
    "plt.tight_layout()\n",
    "plt.show()\n"
   ]
  },
  {
   "cell_type": "markdown",
   "metadata": {},
   "source": [
    "#### Look at the distribution of the amount of credit of each class"
   ]
  },
  {
   "cell_type": "code",
   "execution_count": 3459,
   "metadata": {},
   "outputs": [
    {
     "data": {
      "text/html": [
       "<div>\n",
       "<style scoped>\n",
       "    .dataframe tbody tr th:only-of-type {\n",
       "        vertical-align: middle;\n",
       "    }\n",
       "\n",
       "    .dataframe tbody tr th {\n",
       "        vertical-align: top;\n",
       "    }\n",
       "\n",
       "    .dataframe thead th {\n",
       "        text-align: right;\n",
       "    }\n",
       "</style>\n",
       "<table border=\"1\" class=\"dataframe\">\n",
       "  <thead>\n",
       "    <tr style=\"text-align: right;\">\n",
       "      <th></th>\n",
       "      <th>count</th>\n",
       "      <th>mean</th>\n",
       "      <th>std</th>\n",
       "      <th>min</th>\n",
       "      <th>25%</th>\n",
       "      <th>50%</th>\n",
       "      <th>75%</th>\n",
       "      <th>max</th>\n",
       "    </tr>\n",
       "    <tr>\n",
       "      <th>Class</th>\n",
       "      <th></th>\n",
       "      <th></th>\n",
       "      <th></th>\n",
       "      <th></th>\n",
       "      <th></th>\n",
       "      <th></th>\n",
       "      <th></th>\n",
       "      <th></th>\n",
       "    </tr>\n",
       "  </thead>\n",
       "  <tbody>\n",
       "    <tr>\n",
       "      <th>Bad</th>\n",
       "      <td>300.0</td>\n",
       "      <td>3938.13</td>\n",
       "      <td>3535.82</td>\n",
       "      <td>433.0</td>\n",
       "      <td>1352.5</td>\n",
       "      <td>2574.5</td>\n",
       "      <td>5141.50</td>\n",
       "      <td>18424.0</td>\n",
       "    </tr>\n",
       "    <tr>\n",
       "      <th>Good</th>\n",
       "      <td>700.0</td>\n",
       "      <td>2985.46</td>\n",
       "      <td>2401.47</td>\n",
       "      <td>250.0</td>\n",
       "      <td>1375.5</td>\n",
       "      <td>2244.0</td>\n",
       "      <td>3634.75</td>\n",
       "      <td>15857.0</td>\n",
       "    </tr>\n",
       "  </tbody>\n",
       "</table>\n",
       "</div>"
      ],
      "text/plain": [
       "       count     mean      std    min     25%     50%      75%      max\n",
       "Class                                                                  \n",
       "Bad    300.0  3938.13  3535.82  433.0  1352.5  2574.5  5141.50  18424.0\n",
       "Good   700.0  2985.46  2401.47  250.0  1375.5  2244.0  3634.75  15857.0"
      ]
     },
     "metadata": {},
     "output_type": "display_data"
    }
   ],
   "source": [
    "display(df.groupby('Class')['Credit_amount'].describe().round(2))"
   ]
  },
  {
   "cell_type": "markdown",
   "metadata": {},
   "source": [
    "#### Look at the distribution of the duration in months of each class"
   ]
  },
  {
   "cell_type": "code",
   "execution_count": 3460,
   "metadata": {},
   "outputs": [
    {
     "data": {
      "text/html": [
       "<div>\n",
       "<style scoped>\n",
       "    .dataframe tbody tr th:only-of-type {\n",
       "        vertical-align: middle;\n",
       "    }\n",
       "\n",
       "    .dataframe tbody tr th {\n",
       "        vertical-align: top;\n",
       "    }\n",
       "\n",
       "    .dataframe thead th {\n",
       "        text-align: right;\n",
       "    }\n",
       "</style>\n",
       "<table border=\"1\" class=\"dataframe\">\n",
       "  <thead>\n",
       "    <tr style=\"text-align: right;\">\n",
       "      <th></th>\n",
       "      <th>count</th>\n",
       "      <th>mean</th>\n",
       "      <th>std</th>\n",
       "      <th>min</th>\n",
       "      <th>25%</th>\n",
       "      <th>50%</th>\n",
       "      <th>75%</th>\n",
       "      <th>max</th>\n",
       "    </tr>\n",
       "    <tr>\n",
       "      <th>Class</th>\n",
       "      <th></th>\n",
       "      <th></th>\n",
       "      <th></th>\n",
       "      <th></th>\n",
       "      <th></th>\n",
       "      <th></th>\n",
       "      <th></th>\n",
       "      <th></th>\n",
       "    </tr>\n",
       "  </thead>\n",
       "  <tbody>\n",
       "    <tr>\n",
       "      <th>Bad</th>\n",
       "      <td>300.0</td>\n",
       "      <td>24.86</td>\n",
       "      <td>13.28</td>\n",
       "      <td>6.0</td>\n",
       "      <td>12.0</td>\n",
       "      <td>24.0</td>\n",
       "      <td>36.0</td>\n",
       "      <td>72.0</td>\n",
       "    </tr>\n",
       "    <tr>\n",
       "      <th>Good</th>\n",
       "      <td>700.0</td>\n",
       "      <td>19.21</td>\n",
       "      <td>11.08</td>\n",
       "      <td>4.0</td>\n",
       "      <td>12.0</td>\n",
       "      <td>18.0</td>\n",
       "      <td>24.0</td>\n",
       "      <td>60.0</td>\n",
       "    </tr>\n",
       "  </tbody>\n",
       "</table>\n",
       "</div>"
      ],
      "text/plain": [
       "       count   mean    std  min   25%   50%   75%   max\n",
       "Class                                                  \n",
       "Bad    300.0  24.86  13.28  6.0  12.0  24.0  36.0  72.0\n",
       "Good   700.0  19.21  11.08  4.0  12.0  18.0  24.0  60.0"
      ]
     },
     "metadata": {},
     "output_type": "display_data"
    }
   ],
   "source": [
    "display(df.groupby('Class')['Duration_in_months'].describe().round(2))"
   ]
  },
  {
   "cell_type": "markdown",
   "metadata": {},
   "source": [
    "## Task 4 - EDA, Preprocessing"
   ]
  },
  {
   "cell_type": "markdown",
   "metadata": {},
   "source": [
    "#### Problematic Features"
   ]
  },
  {
   "cell_type": "markdown",
   "metadata": {},
   "source": [
    "Columns that are problematic because of potential discrimination and bias concerns:\n",
    "\n",
    "- **Personal_status_and_sex:** This column combines personal status and sex, which could introduce gender bias into the model.\n",
    "\n",
    "- **Age_in_years:** Age is a sensitive attribute and could lead to age discrimination.\n",
    "\n",
    "- **Foreign_worker:** This column indicates whether the applicant is a foreign worker, which could lead to discrimination based on nationality.\n",
    "\n",
    "Because of these concerns, this column will be dropped from the dataset."
   ]
  },
  {
   "cell_type": "code",
   "execution_count": 3461,
   "metadata": {},
   "outputs": [
    {
     "data": {
      "text/plain": [
       "(1000, 18)"
      ]
     },
     "execution_count": 3461,
     "metadata": {},
     "output_type": "execute_result"
    }
   ],
   "source": [
    "# Drop columns because of discriminatory concerns\n",
    "df.drop(columns=[\"Personal_status_and_sex\", \"Age_in_years\", \"Foreign_worker\"], inplace=True)\n",
    "df.shape"
   ]
  },
  {
   "cell_type": "markdown",
   "metadata": {},
   "source": [
    "#### Encoding Categorical Variables"
   ]
  },
  {
   "cell_type": "code",
   "execution_count": 3462,
   "metadata": {},
   "outputs": [
    {
     "data": {
      "text/plain": [
       "(1000, 44)"
      ]
     },
     "execution_count": 3462,
     "metadata": {},
     "output_type": "execute_result"
    }
   ],
   "source": [
    "# Encoding categorical variables using one-hot encoding\n",
    "df_encoded = pd.get_dummies(df, drop_first=True)\n",
    "df_encoded.shape"
   ]
  },
  {
   "cell_type": "markdown",
   "metadata": {},
   "source": [
    "After deciding the categorical columns, the dataset now contains 44 features, since each categorical column was expanded into multiple columns using one-hot encoding."
   ]
  },
  {
   "cell_type": "markdown",
   "metadata": {},
   "source": [
    "#### Separating the Target Variable"
   ]
  },
  {
   "cell_type": "code",
   "execution_count": 3463,
   "metadata": {},
   "outputs": [],
   "source": [
    "# Separating features and target variable\n",
    "X = df_encoded.drop('Class_Good', axis=1)  # 'Class_Good' is the target variable after encoding\n",
    "y = df_encoded['Class_Good']"
   ]
  },
  {
   "cell_type": "code",
   "execution_count": 3464,
   "metadata": {},
   "outputs": [
    {
     "data": {
      "text/plain": [
       "((1000, 43), (1000,))"
      ]
     },
     "execution_count": 3464,
     "metadata": {},
     "output_type": "execute_result"
    }
   ],
   "source": [
    "X.shape, y.shape"
   ]
  },
  {
   "cell_type": "markdown",
   "metadata": {},
   "source": [
    "#### Split the Data"
   ]
  },
  {
   "cell_type": "code",
   "execution_count": 3465,
   "metadata": {},
   "outputs": [],
   "source": [
    "# Split data into train (42%), validation (18%), and test (40%)\n",
    "X_train_full, X_test, y_train_full, y_test = train_test_split(X, y, test_size=0.4, shuffle=True, random_state=random_seed)\n",
    "# From the remaining 60%, the validation set should be 18% of the total, therefore the validation set size need to be set to 0.18/0.6 = 0.3!!!!\n",
    "X_train, X_val, y_train, y_val = train_test_split(X_train_full, y_train_full, test_size=0.30, shuffle=True, random_state=random_seed)"
   ]
  },
  {
   "cell_type": "markdown",
   "metadata": {},
   "source": [
    "#### Scale the data"
   ]
  },
  {
   "cell_type": "code",
   "execution_count": 3466,
   "metadata": {},
   "outputs": [],
   "source": [
    "x_scaler = MinMaxScaler()\n",
    "# No y_scaler needed since it is a classification problem and not a regression problem "
   ]
  },
  {
   "cell_type": "code",
   "execution_count": 3467,
   "metadata": {},
   "outputs": [],
   "source": [
    "# Fit and transform the features\n",
    "x_scaler.fit(X_train_full)\n",
    "X_train_sc = x_scaler.transform(X_train)\n",
    "X_val_sc = x_scaler.transform(X_val)\n",
    "X_test_sc = x_scaler.transform(X_test)"
   ]
  },
  {
   "cell_type": "markdown",
   "metadata": {},
   "source": [
    "Ensure that the data is split into the wanted proportions."
   ]
  },
  {
   "cell_type": "code",
   "execution_count": 3468,
   "metadata": {},
   "outputs": [
    {
     "name": "stdout",
     "output_type": "stream",
     "text": [
      "Test set size:  400\n",
      "Train set size:  420\n",
      "Validation set size:  180\n",
      "Test set size percentage: 40.0 %\n",
      "Train set size percentage: 42.0 %\n",
      "Validation set size percentage: 18.0 %\n"
     ]
    }
   ],
   "source": [
    "# Calculate the size of test, train and val sets and calculate percentage of each\n",
    "test_size = len(X_test_sc)\n",
    "train_size = len(X_train_sc)\n",
    "val_size = len(X_val_sc)\n",
    "\n",
    "test_size_percent = test_size / (test_size + train_size + val_size) * 100\n",
    "train_size_percent = train_size / (test_size + train_size + val_size) * 100\n",
    "val_size_percent = val_size / (test_size + train_size + val_size) * 100\n",
    "\n",
    "# Print the size of test, train and val sets and percentage of each\n",
    "print(\"Test set size: \", test_size)\n",
    "print(\"Train set size: \", train_size)\n",
    "print(\"Validation set size: \", val_size)\n",
    "print(f\"Test set size percentage: {test_size_percent} %\")\n",
    "print(f\"Train set size percentage: {train_size_percent} %\")\n",
    "print(f\"Validation set size percentage: {val_size_percent} %\")"
   ]
  },
  {
   "cell_type": "markdown",
   "metadata": {},
   "source": [
    "#### Dealing with Imbalanced Classes"
   ]
  },
  {
   "cell_type": "code",
   "execution_count": 3469,
   "metadata": {},
   "outputs": [],
   "source": [
    "# Apply SMOTE to the training data\n",
    "smote = SMOTE(random_state=42)\n",
    "X_train_sc_smote, y_train_smote = smote.fit_resample(X_train_sc, y_train)"
   ]
  },
  {
   "cell_type": "code",
   "execution_count": 3470,
   "metadata": {},
   "outputs": [
    {
     "data": {
      "text/plain": [
       "Class_Good\n",
       "True     292\n",
       "False    292\n",
       "Name: count, dtype: int64"
      ]
     },
     "execution_count": 3470,
     "metadata": {},
     "output_type": "execute_result"
    }
   ],
   "source": [
    "# Ceck if the distribution of the classes us now balanced\n",
    "y_train_smote.value_counts()"
   ]
  },
  {
   "cell_type": "markdown",
   "metadata": {},
   "source": [
    "#### Create Tensors"
   ]
  },
  {
   "cell_type": "code",
   "execution_count": 3471,
   "metadata": {},
   "outputs": [],
   "source": [
    "# Convert to PyTorch tensors\n",
    "X_train_sc_smote_tens = torch.tensor(X_train_sc_smote, dtype=torch.float32)\n",
    "y_train_smote_tens = torch.tensor(y_train_smote.values, dtype=torch.long)\n",
    "X_val_sc_tens = torch.tensor(X_val_sc, dtype=torch.float32)\n",
    "y_val_tens = torch.tensor(y_val.values, dtype=torch.long)\n",
    "X_test_sc_tens = torch.tensor(X_test_sc, dtype=torch.float32)\n",
    "y_test_tens = torch.tensor(y_test.values, dtype=torch.long)"
   ]
  },
  {
   "cell_type": "markdown",
   "metadata": {},
   "source": [
    "Ensure that the tensors are created with the correct dimensions."
   ]
  },
  {
   "cell_type": "code",
   "execution_count": 3472,
   "metadata": {},
   "outputs": [
    {
     "name": "stdout",
     "output_type": "stream",
     "text": [
      "Train set size: torch.Size([584, 43]) torch.Size([584])\n",
      "Validation set size: torch.Size([180, 43]) torch.Size([180])\n",
      "Test set size: torch.Size([400, 43]) torch.Size([400])\n"
     ]
    }
   ],
   "source": [
    "# Check the sizes of the tensors\n",
    "print(\"Train set size:\", X_train_sc_smote_tens.size(), y_train_smote_tens.size())\n",
    "print(\"Validation set size:\", X_val_sc_tens.size(), y_val_tens.size())\n",
    "print(\"Test set size:\", X_test_sc_tens.size(), y_test_tens.size())"
   ]
  },
  {
   "cell_type": "markdown",
   "metadata": {},
   "source": [
    "#### Set up data loaders"
   ]
  },
  {
   "cell_type": "code",
   "execution_count": 3473,
   "metadata": {},
   "outputs": [],
   "source": [
    "# Create TensorDatasets for neural networks\n",
    "train_dataset = TensorDataset(X_train_sc_smote_tens, y_train_smote_tens)\n",
    "val_dataset = TensorDataset(X_val_sc_tens, y_val_tens)\n",
    "test_dataset = TensorDataset(X_test_sc_tens, y_test_tens)\n",
    "\n",
    "# Create DataLoaders for neural networks\n",
    "batch_size = len(train_dataset) # Use full batch since the dataset is small \n",
    "\n",
    "train_loader = DataLoader(train_dataset, batch_size=batch_size, shuffle=True)\n",
    "val_loader = DataLoader(val_dataset, batch_size=batch_size, shuffle=False)\n",
    "test_loader = DataLoader(test_dataset, batch_size=batch_size, shuffle=False)"
   ]
  },
  {
   "cell_type": "markdown",
   "metadata": {},
   "source": [
    "## Task 5 -Baseline"
   ]
  },
  {
   "cell_type": "code",
   "execution_count": 3474,
   "metadata": {},
   "outputs": [],
   "source": [
    "# Dataframe to store the results\n",
    "df_results =  pd.DataFrame()\n",
    "\n",
    "# # Function evaluate the performance of a classifier\n",
    "def add_results_to_df(df_results, model, dataset, y_true, y_pred):\n",
    "    '''\n",
    "    Function to add the results of a model to a dataframe\n",
    "    Args:\n",
    "        df_results : DataFrame : a dataframe to store the results\n",
    "        model : str : the name of the model\n",
    "        dataset : str : the name of the dataset (train, test)\n",
    "        y_true : array : the true labels\n",
    "        y_pred : array : the predicted labels\n",
    "    Returns:\n",
    "        DataFrame : the dataframe with the added results\n",
    "    '''\n",
    "    df_results = pd.concat([df_results, pd.DataFrame([{\n",
    "        \"Model\": model, \n",
    "        \"Dataset\": dataset,\n",
    "        \"Accuracy\": ms.accuracy_score(y_true, y_pred),\n",
    "        \"Precision\": precision_score(y_true, y_pred),\n",
    "        \"Recall\": recall_score(y_true, y_pred),\n",
    "        \"F1_Score\": f1_score(y_true, y_pred),\n",
    "        \"Confusion_Matrix\": confusion_matrix(y_true, y_pred)\n",
    "    }])], ignore_index=True)\n",
    "    return df_results\n"
   ]
  },
  {
   "cell_type": "markdown",
   "metadata": {},
   "source": [
    "### First Baseline (Simple Model)\n",
    "\n",
    "For the simple baseline model, **DummyClassifier** is used with the strategy set to 'most_frequent'. This strategy predicts the most frequent class in the training data, which is the good credit class."
   ]
  },
  {
   "cell_type": "code",
   "execution_count": 3475,
   "metadata": {},
   "outputs": [],
   "source": [
    "# Simple baseline using the most frequent class\n",
    "dummy_clf = DummyClassifier(strategy=\"most_frequent\")\n",
    "dummy_clf.fit(X_train, y_train)\n",
    "y_train_pred_dummy = dummy_clf.predict(X_train_sc) \n",
    "y_test_pred_dummy = dummy_clf.predict(X_test_sc)\n",
    "\n",
    "# Evaluate the simple baseline and add results to the dataframe\n",
    "df_results = add_results_to_df(df_results, \"DummyClassifier\", \"train\", y_train, y_train_pred_dummy)\n",
    "df_results = add_results_to_df(df_results, \"DummyClassifier\", \"test\", y_test, y_test_pred_dummy)\n"
   ]
  },
  {
   "cell_type": "markdown",
   "metadata": {},
   "source": [
    "### Second Baseline (Classical ML Model)\n",
    "\n",
    "The second baseline model is **Random Forest Classifier** is used with the default hyperparameters."
   ]
  },
  {
   "cell_type": "code",
   "execution_count": 3476,
   "metadata": {},
   "outputs": [],
   "source": [
    "# Initialize the Random Forest classifier\n",
    "rf = RandomForestClassifier(random_state=random_seed)\n",
    "\n",
    "# Train the Random Forest with the SMOTE-resampled data\n",
    "rf.fit(X_train_sc_smote, y_train_smote)\n",
    "\n",
    "# Predict with the pipeline\n",
    "y_train_pred_rf = rf.predict(X_train_sc_smote)\n",
    "y_test_pred_rf = rf.predict(X_test_sc)\n",
    "\n",
    "# Evaluate the Random Forest baseline with SMOTE and add results to the dataframe\n",
    "df_results = add_results_to_df(df_results, \"RandomForest\", \"train\", y_train_smote, y_train_pred_rf)\n",
    "df_results = add_results_to_df(df_results, \"RandomForest\", \"test\", y_test, y_test_pred_rf)\n"
   ]
  },
  {
   "cell_type": "markdown",
   "metadata": {},
   "source": [
    "## Task 6 – Deep Learning Experiments"
   ]
  },
  {
   "cell_type": "markdown",
   "metadata": {},
   "source": [
    "#### Define Model Architecture\n",
    "\n",
    "The fist from the two alternatives is conducted. \n",
    "\n",
    "(1. Choose at least one of the architectures such that it contains layers or cells beyond simple\n",
    "linear layers and activation functions)"
   ]
  },
  {
   "cell_type": "markdown",
   "metadata": {},
   "source": [
    "#### Model 1: Simple Feedforward Neural Network"
   ]
  },
  {
   "cell_type": "code",
   "execution_count": 3477,
   "metadata": {},
   "outputs": [],
   "source": [
    "class SimpleNN(nn.Module):\n",
    "    def __init__(self, input_size):\n",
    "        super(SimpleNN, self).__init__()\n",
    "        # Initialize the input size\n",
    "        self.input_size = input_size\n",
    "        \n",
    "        # Define the layers\n",
    "        self.lin1 = nn.Linear(input_size, 256)  # First hidden layer with 256 neurons\n",
    "        self.lin2 = nn.Linear(256, 128)         # Second hidden layer with 128 neurons\n",
    "        self.lin3 = nn.Linear(128, 64)          # Third hidden layer with 64 neurons\n",
    "        self.lin4 = nn.Linear(64, 32)           # Fourth hidden layer with 32 neurons\n",
    "        self.lin5 = nn.Linear(32, 16)           # Fifth hidden layer with 16 neurons\n",
    "        self.lin6 = nn.Linear(16, 1)            # Output layer with 1 neuron for binary classification\n",
    "\n",
    "    def forward(self, x):\n",
    "        # Apply ReLU activation function after each hidden layer\n",
    "        x = torch.relu(self.lin1(x))  # First hidden layer\n",
    "        x = torch.relu(self.lin2(x))  # Second hidden layer\n",
    "        x = torch.relu(self.lin3(x))  # Third hidden layer\n",
    "        x = torch.relu(self.lin4(x))  # Fourth hidden layer\n",
    "        x = torch.relu(self.lin5(x))  # Fifth hidden layer\n",
    "        x = self.lin6(x)              # Output layer (no activation function here because it's handled in loss function)\n",
    "        return x  # Return raw logits\n",
    "\n",
    "    def predict(self, x):\n",
    "        # Predict the class with the highest logit score\n",
    "        logits = self.forward(x)       # Forward pass to get logits\n",
    "        probs = torch.sigmoid(logits)  # Convert logits to probabilities\n",
    "        return (probs > 0.5).float()   # Return 0 or 1 based on probability\n"
   ]
  },
  {
   "cell_type": "markdown",
   "metadata": {},
   "source": [
    "#### Model 2: Feedforward Neural Network with Dropout"
   ]
  },
  {
   "cell_type": "code",
   "execution_count": 3478,
   "metadata": {},
   "outputs": [],
   "source": [
    "class DropoutNN(nn.Module):\n",
    "    def __init__(self, input_size):\n",
    "        super(DropoutNN, self).__init__()\n",
    "        # Initialize the input size\n",
    "        self.input_size = input_size\n",
    "        \n",
    "        # Define the layers with dropout for regularization\n",
    "        self.lin1 = nn.Linear(input_size, 256)  # First hidden layer with 256 neurons\n",
    "        self.dropout1 = nn.Dropout(0.5)         # Dropout after first hidden layer\n",
    "        self.lin2 = nn.Linear(256, 128)         # Second hidden layer with 128 neurons\n",
    "        self.dropout2 = nn.Dropout(0.5)         # Dropout after second hidden layer\n",
    "        self.lin3 = nn.Linear(128, 64)          # Third hidden layer with 64 neurons\n",
    "        self.dropout3 = nn.Dropout(0.5)         # Dropout after third hidden layer\n",
    "        self.lin4 = nn.Linear(64, 32)           # Fourth hidden layer with 32 neurons\n",
    "        self.dropout4 = nn.Dropout(0.5)         # Dropout after fourth hidden layer\n",
    "        self.lin5 = nn.Linear(32, 16)           # Fifth hidden layer with 16 neurons\n",
    "        self.dropout5 = nn.Dropout(0.5)         # Dropout after fifth hidden layer\n",
    "        self.lin6 = nn.Linear(16, 1)            # Output layer with 1 neuron for binary classification\n",
    "\n",
    "    def forward(self, x):\n",
    "        # Apply ReLU activation function and dropout after each hidden layer\n",
    "        x = torch.relu(self.lin1(x))  # First hidden layer\n",
    "        x = self.dropout1(x)          # Apply dropout\n",
    "        x = torch.relu(self.lin2(x))  # Second hidden layer\n",
    "        x = self.dropout2(x)          # Apply dropout\n",
    "        x = torch.relu(self.lin3(x))  # Third hidden layer\n",
    "        x = self.dropout3(x)          # Apply dropout\n",
    "        x = torch.relu(self.lin4(x))  # Fourth hidden layer\n",
    "        x = self.dropout4(x)          # Apply dropout\n",
    "        x = torch.relu(self.lin5(x))  # Fifth hidden layer\n",
    "        x = self.dropout5(x)          # Apply dropout\n",
    "        x = self.lin6(x)              # Output layer (no activation function here because it's handled in loss function)\n",
    "        return x  # Return raw logits\n",
    "\n",
    "    def predict(self, x):\n",
    "        # Predict the class with the highest logit score\n",
    "        logits = self.forward(x)       # Forward pass to get logits\n",
    "        probs = torch.sigmoid(logits)  # Convert logits to probabilities\n",
    "        return (probs > 0.5).float()   # Return 0 or 1 based on probability\n"
   ]
  },
  {
   "cell_type": "markdown",
   "metadata": {},
   "source": [
    "    Does the second model has "
   ]
  },
  {
   "cell_type": "markdown",
   "metadata": {},
   "source": [
    "#### Use CPU"
   ]
  },
  {
   "cell_type": "code",
   "execution_count": 3479,
   "metadata": {},
   "outputs": [],
   "source": [
    "# Set device to CPU \n",
    "device = torch.device(\"cpu\")"
   ]
  },
  {
   "cell_type": "markdown",
   "metadata": {},
   "source": [
    "#### Function for Training "
   ]
  },
  {
   "cell_type": "code",
   "execution_count": 3480,
   "metadata": {},
   "outputs": [],
   "source": [
    "def train_model(model, learning_rate, criterion, epochs, train_loader, val_loader, patience=10, improvement_threshold=0.001):\n",
    "    \n",
    "    # Set initial values\n",
    "    best_accuracy_val = float('-inf')\n",
    "    best_loss_val = float('inf')\n",
    "    best_model_state = copy.deepcopy(model.state_dict())\n",
    "    patience_counter = 0\n",
    "    best_epoch = 0\n",
    "\n",
    "    writer = SummaryWriter()\n",
    "    optimizer = optim.Adam(model.parameters(), lr=learning_rate)\n",
    "\n",
    "    for epoch in range(epochs):\n",
    "        model.train()\n",
    "        running_loss = 0.0\n",
    "        running_corrects = 0\n",
    "        for inputs, labels in train_loader:\n",
    "            inputs, labels = inputs.to(device), labels.to(device)\n",
    "            y_train_pred = model(inputs).squeeze()\n",
    "            loss_train = criterion(y_train_pred, labels.float())\n",
    "\n",
    "            optimizer.zero_grad()\n",
    "            loss_train.backward()\n",
    "            optimizer.step()\n",
    "\n",
    "            running_loss += loss_train.item() * inputs.size(0)\n",
    "            preds = (torch.sigmoid(y_train_pred) > 0.5).float()\n",
    "            running_corrects += torch.sum(preds == labels.data)\n",
    "\n",
    "        epoch_loss = running_loss / len(train_loader.dataset)\n",
    "        epoch_acc = running_corrects.double() / len(train_loader.dataset)\n",
    "\n",
    "        model.eval()\n",
    "        val_loss = 0.0\n",
    "        val_corrects = 0\n",
    "        with torch.no_grad():\n",
    "            for inputs, labels in val_loader:\n",
    "                inputs, labels = inputs.to(device), labels.to(device)\n",
    "                y_pred_val = model(inputs).squeeze()\n",
    "                loss_val = criterion(y_pred_val, labels.float())\n",
    "\n",
    "                val_loss += loss_val.item() * inputs.size(0)\n",
    "                preds = (torch.sigmoid(y_pred_val) > 0.5).float()\n",
    "                val_corrects += torch.sum(preds == labels.data)\n",
    "\n",
    "        epoch_val_loss = val_loss / len(val_loader.dataset)\n",
    "        epoch_val_acc = val_corrects.double() / len(val_loader.dataset)\n",
    "\n",
    "        writer.add_scalars('Accuracy/train_val', {'train': epoch_acc, 'val': epoch_val_acc}, epoch)\n",
    "        writer.add_scalars('Loss/train_val', {'train': epoch_loss, 'val': epoch_val_loss}, epoch)\n",
    "\n",
    "        if epoch_val_loss < best_loss_val - improvement_threshold:\n",
    "            best_loss_val = epoch_val_loss\n",
    "            patience_counter = 0\n",
    "            best_model_state = copy.deepcopy(model.state_dict())\n",
    "            best_epoch = epoch\n",
    "        else:\n",
    "            patience_counter += 1\n",
    "\n",
    "        if patience_counter >= patience:\n",
    "            print(f\"Early stopping at epoch {epoch} due to lack of significant improvement in validation loss\")\n",
    "            break\n",
    "\n",
    "        if epoch < 10 or epoch % 200 == 199:\n",
    "            print(f\"Epoch: {epoch}, Train Loss: {epoch_loss:.5f}, Val Loss: {epoch_val_loss:.5f}, Train Accuracy: {epoch_acc:.5f}, Val Accuracy: {epoch_val_acc:.5f}\")\n",
    "\n",
    "    writer.close()\n",
    "    model.load_state_dict(best_model_state)\n",
    "    return model, best_loss_val, best_accuracy_val, best_epoch"
   ]
  },
  {
   "cell_type": "markdown",
   "metadata": {},
   "source": [
    "#### Initialize the Models"
   ]
  },
  {
   "cell_type": "code",
   "execution_count": 3481,
   "metadata": {},
   "outputs": [],
   "source": [
    "# Get input size\n",
    "input_size = X_train_sc.shape[1]\n",
    "\n",
    "# # Initialize models\n",
    "# model1 = SimpleNN(input_size, num_classes).to(device)\n",
    "# model2 = DropoutNN(input_size, num_classes).to(device)\n",
    "# Initialize models\n",
    "model1 = SimpleNN(input_size).to(device)\n",
    "model2 = DropoutNN(input_size).to(device)\n"
   ]
  },
  {
   "cell_type": "markdown",
   "metadata": {},
   "source": [
    "#### Set Hyperparameters"
   ]
  },
  {
   "cell_type": "code",
   "execution_count": 3482,
   "metadata": {},
   "outputs": [],
   "source": [
    "# Loss function\n",
    "criterion = nn.BCEWithLogitsLoss()  # Binary Cross-Entropy with Logits Loss\n",
    "\n",
    "# Learning rate (same learning rate for both models, but usually this is would be tuned separately for each model)\n",
    "learning_rate_model1 = 0.001 \n",
    "learning_rate_model2 = 0.001\n",
    "\n",
    "# Number of epochs\n",
    "num_epochs = 1000\n",
    "\n",
    "# Patience for early stopping\n",
    "patience = 50\n",
    "\n",
    "# Improvement threshold for early stopping\n",
    "improvement_threshold = 0.001"
   ]
  },
  {
   "cell_type": "markdown",
   "metadata": {},
   "source": [
    "#### Training the Models"
   ]
  },
  {
   "cell_type": "code",
   "execution_count": 3483,
   "metadata": {},
   "outputs": [
    {
     "name": "stdout",
     "output_type": "stream",
     "text": [
      "Training SimpleNN model with full-batch gradient descent\n",
      "Epoch: 0, Train Loss: 0.69505, Val Loss: 0.71746, Train Accuracy: 0.50000, Val Accuracy: 0.30000\n"
     ]
    },
    {
     "name": "stdout",
     "output_type": "stream",
     "text": [
      "Epoch: 1, Train Loss: 0.69449, Val Loss: 0.71558, Train Accuracy: 0.50000, Val Accuracy: 0.30000\n",
      "Epoch: 2, Train Loss: 0.69390, Val Loss: 0.71343, Train Accuracy: 0.50000, Val Accuracy: 0.30000\n",
      "Epoch: 3, Train Loss: 0.69322, Val Loss: 0.71101, Train Accuracy: 0.50000, Val Accuracy: 0.30000\n",
      "Epoch: 4, Train Loss: 0.69242, Val Loss: 0.70846, Train Accuracy: 0.50000, Val Accuracy: 0.30000\n",
      "Epoch: 5, Train Loss: 0.69152, Val Loss: 0.70579, Train Accuracy: 0.50000, Val Accuracy: 0.30000\n",
      "Epoch: 6, Train Loss: 0.69040, Val Loss: 0.70291, Train Accuracy: 0.50000, Val Accuracy: 0.30000\n",
      "Epoch: 7, Train Loss: 0.68901, Val Loss: 0.69977, Train Accuracy: 0.50000, Val Accuracy: 0.30000\n",
      "Epoch: 8, Train Loss: 0.68731, Val Loss: 0.69619, Train Accuracy: 0.50342, Val Accuracy: 0.36111\n",
      "Epoch: 9, Train Loss: 0.68521, Val Loss: 0.69201, Train Accuracy: 0.55308, Val Accuracy: 0.48889\n",
      "Early stopping at epoch 94 due to lack of significant improvement in validation loss\n",
      "Training DropoutNN model with full-batch gradient descent\n",
      "Epoch: 0, Train Loss: 0.69661, Val Loss: 0.72030, Train Accuracy: 0.50000, Val Accuracy: 0.30000\n",
      "Epoch: 1, Train Loss: 0.69629, Val Loss: 0.71927, Train Accuracy: 0.50000, Val Accuracy: 0.30000\n",
      "Epoch: 2, Train Loss: 0.69364, Val Loss: 0.71828, Train Accuracy: 0.50000, Val Accuracy: 0.30000\n",
      "Epoch: 3, Train Loss: 0.69417, Val Loss: 0.71713, Train Accuracy: 0.49829, Val Accuracy: 0.30000\n",
      "Epoch: 4, Train Loss: 0.69469, Val Loss: 0.71584, Train Accuracy: 0.50000, Val Accuracy: 0.30000\n",
      "Epoch: 5, Train Loss: 0.69364, Val Loss: 0.71464, Train Accuracy: 0.50000, Val Accuracy: 0.30000\n",
      "Epoch: 6, Train Loss: 0.69171, Val Loss: 0.71350, Train Accuracy: 0.50000, Val Accuracy: 0.30000\n",
      "Epoch: 7, Train Loss: 0.69482, Val Loss: 0.71227, Train Accuracy: 0.50000, Val Accuracy: 0.30000\n",
      "Epoch: 8, Train Loss: 0.69293, Val Loss: 0.71094, Train Accuracy: 0.50000, Val Accuracy: 0.30000\n",
      "Epoch: 9, Train Loss: 0.69357, Val Loss: 0.70972, Train Accuracy: 0.50171, Val Accuracy: 0.30000\n",
      "Early stopping at epoch 122 due to lack of significant improvement in validation loss\n"
     ]
    }
   ],
   "source": [
    "print(\"Training SimpleNN model with full-batch gradient descent\")\n",
    "model1, best_loss1, best_acc1, best_epoch1 = train_model(\n",
    "    model=model1, \n",
    "    learning_rate=learning_rate_model1, \n",
    "    criterion=nn.BCEWithLogitsLoss(), \n",
    "    epochs=num_epochs, \n",
    "    train_loader=train_loader, \n",
    "    val_loader=val_loader,\n",
    "    patience=patience,\n",
    "    improvement_threshold=improvement_threshold\n",
    ")\n",
    "\n",
    "# Train Model 2\n",
    "print(\"Training DropoutNN model with full-batch gradient descent\")\n",
    "model2, best_loss2, best_acc2, best_epoch2 = train_model(\n",
    "    model=model2, \n",
    "    learning_rate=learning_rate_model2, \n",
    "    criterion=nn.BCEWithLogitsLoss(), \n",
    "    epochs=num_epochs, \n",
    "    train_loader=train_loader, \n",
    "    val_loader=val_loader,\n",
    "    patience=patience,\n",
    "    improvement_threshold=improvement_threshold\n",
    ")\n"
   ]
  },
  {
   "cell_type": "markdown",
   "metadata": {},
   "source": [
    "#### Display Tensorboard in Jupyter Notebook"
   ]
  },
  {
   "cell_type": "code",
   "execution_count": 3484,
   "metadata": {},
   "outputs": [],
   "source": [
    "# # Launch TensorBoard\n",
    "# %load_ext tensorboard\n",
    "# %tensorboard --logdir ./tensorboard_logs"
   ]
  },
  {
   "cell_type": "markdown",
   "metadata": {},
   "source": [
    "#### Evaluate the Models"
   ]
  },
  {
   "cell_type": "code",
   "execution_count": 3485,
   "metadata": {},
   "outputs": [],
   "source": [
    "def evaluate_model(model, model_name, train_loader, test_loader, df_results, threshold=0.5):\n",
    "    \"\"\"\n",
    "    Evaluate a trained model on both the training and test datasets, and append the results to a DataFrame.\n",
    "\n",
    "    Args:\n",
    "        model (nn.Module): The trained PyTorch model to evaluate.\n",
    "        model_name (str): The name of the model being evaluated (for logging purposes).\n",
    "        train_loader (DataLoader): DataLoader for the training dataset.\n",
    "        test_loader (DataLoader): DataLoader for the test dataset.\n",
    "        df_results (DataFrame): DataFrame to store the evaluation results.\n",
    "        threshold (float): Threshold for binary classification.\n",
    "\n",
    "    Returns:\n",
    "        DataFrame: Updated DataFrame containing the evaluation results.\n",
    "    \"\"\"\n",
    "    \n",
    "    # Loop over both the training and test phases\n",
    "    for phase, loader in zip([\"train\", \"test\"], [train_loader, test_loader]):\n",
    "        model.eval()  # Set the model to evaluation mode\n",
    "        all_preds = []  # List to store all predictions\n",
    "        all_labels = []  # List to store all true labels\n",
    "        \n",
    "        # Iterate over batches of data\n",
    "        for inputs, labels in loader:\n",
    "            inputs, labels = inputs.to(device), labels.to(device)  # Move inputs and labels to the appropriate device\n",
    "            \n",
    "            with torch.no_grad():  # Disable gradient calculation\n",
    "                outputs = model(inputs).squeeze()  # Forward pass through the model\n",
    "                preds = (torch.sigmoid(outputs) > threshold).float()  # Apply sigmoid and threshold\n",
    "            \n",
    "            # Collect the predictions and true labels\n",
    "            all_preds.extend(preds.cpu().numpy())  # Move predictions to CPU and convert to numpy array\n",
    "            all_labels.extend(labels.cpu().numpy())  # Move labels to CPU and convert to numpy array\n",
    "        \n",
    "        # Add the results to the DataFrame\n",
    "        df_results = add_results_to_df(df_results, model_name, phase, all_labels, all_preds)\n",
    "    \n",
    "    return df_results"
   ]
  },
  {
   "cell_type": "code",
   "execution_count": 3486,
   "metadata": {},
   "outputs": [],
   "source": [
    "# Evaluate Model 1\n",
    "df_results = evaluate_model(model1, \"SimpleNN\", train_loader, test_loader, df_results)\n",
    "\n",
    "# Evaluate Model 2\n",
    "df_results = evaluate_model(model2, \"DropoutNN\", train_loader, test_loader, df_results)"
   ]
  },
  {
   "cell_type": "code",
   "execution_count": 3487,
   "metadata": {},
   "outputs": [],
   "source": [
    "# Results without confusion matrix\n",
    "df_results_filtered = df_results[['Model', 'Dataset', 'Accuracy', 'Precision', 'Recall', 'F1_Score']]"
   ]
  },
  {
   "cell_type": "code",
   "execution_count": 3488,
   "metadata": {},
   "outputs": [
    {
     "data": {
      "text/html": [
       "<div>\n",
       "<style scoped>\n",
       "    .dataframe tbody tr th:only-of-type {\n",
       "        vertical-align: middle;\n",
       "    }\n",
       "\n",
       "    .dataframe tbody tr th {\n",
       "        vertical-align: top;\n",
       "    }\n",
       "\n",
       "    .dataframe thead th {\n",
       "        text-align: right;\n",
       "    }\n",
       "</style>\n",
       "<table border=\"1\" class=\"dataframe\">\n",
       "  <thead>\n",
       "    <tr style=\"text-align: right;\">\n",
       "      <th></th>\n",
       "      <th>Model</th>\n",
       "      <th>Dataset</th>\n",
       "      <th>Accuracy</th>\n",
       "      <th>Precision</th>\n",
       "      <th>Recall</th>\n",
       "      <th>F1_Score</th>\n",
       "    </tr>\n",
       "  </thead>\n",
       "  <tbody>\n",
       "    <tr>\n",
       "      <th>3</th>\n",
       "      <td>RandomForest</td>\n",
       "      <td>test</td>\n",
       "      <td>0.75</td>\n",
       "      <td>0.80</td>\n",
       "      <td>0.85</td>\n",
       "      <td>0.83</td>\n",
       "    </tr>\n",
       "    <tr>\n",
       "      <th>7</th>\n",
       "      <td>DropoutNN</td>\n",
       "      <td>test</td>\n",
       "      <td>0.74</td>\n",
       "      <td>0.84</td>\n",
       "      <td>0.79</td>\n",
       "      <td>0.81</td>\n",
       "    </tr>\n",
       "    <tr>\n",
       "      <th>5</th>\n",
       "      <td>SimpleNN</td>\n",
       "      <td>test</td>\n",
       "      <td>0.73</td>\n",
       "      <td>0.86</td>\n",
       "      <td>0.74</td>\n",
       "      <td>0.79</td>\n",
       "    </tr>\n",
       "    <tr>\n",
       "      <th>1</th>\n",
       "      <td>DummyClassifier</td>\n",
       "      <td>test</td>\n",
       "      <td>0.70</td>\n",
       "      <td>0.70</td>\n",
       "      <td>1.00</td>\n",
       "      <td>0.83</td>\n",
       "    </tr>\n",
       "  </tbody>\n",
       "</table>\n",
       "</div>"
      ],
      "text/plain": [
       "             Model Dataset  Accuracy  Precision  Recall  F1_Score\n",
       "3     RandomForest    test      0.75       0.80    0.85      0.83\n",
       "7        DropoutNN    test      0.74       0.84    0.79      0.81\n",
       "5         SimpleNN    test      0.73       0.86    0.74      0.79\n",
       "1  DummyClassifier    test      0.70       0.70    1.00      0.83"
      ]
     },
     "metadata": {},
     "output_type": "display_data"
    },
    {
     "data": {
      "text/html": [
       "<div>\n",
       "<style scoped>\n",
       "    .dataframe tbody tr th:only-of-type {\n",
       "        vertical-align: middle;\n",
       "    }\n",
       "\n",
       "    .dataframe tbody tr th {\n",
       "        vertical-align: top;\n",
       "    }\n",
       "\n",
       "    .dataframe thead th {\n",
       "        text-align: right;\n",
       "    }\n",
       "</style>\n",
       "<table border=\"1\" class=\"dataframe\">\n",
       "  <thead>\n",
       "    <tr style=\"text-align: right;\">\n",
       "      <th></th>\n",
       "      <th>Model</th>\n",
       "      <th>Dataset</th>\n",
       "      <th>Accuracy</th>\n",
       "      <th>Precision</th>\n",
       "      <th>Recall</th>\n",
       "      <th>F1_Score</th>\n",
       "    </tr>\n",
       "  </thead>\n",
       "  <tbody>\n",
       "    <tr>\n",
       "      <th>2</th>\n",
       "      <td>RandomForest</td>\n",
       "      <td>train</td>\n",
       "      <td>1.00</td>\n",
       "      <td>1.00</td>\n",
       "      <td>1.00</td>\n",
       "      <td>1.00</td>\n",
       "    </tr>\n",
       "    <tr>\n",
       "      <th>6</th>\n",
       "      <td>DropoutNN</td>\n",
       "      <td>train</td>\n",
       "      <td>0.83</td>\n",
       "      <td>0.83</td>\n",
       "      <td>0.84</td>\n",
       "      <td>0.83</td>\n",
       "    </tr>\n",
       "    <tr>\n",
       "      <th>4</th>\n",
       "      <td>SimpleNN</td>\n",
       "      <td>train</td>\n",
       "      <td>0.83</td>\n",
       "      <td>0.87</td>\n",
       "      <td>0.78</td>\n",
       "      <td>0.82</td>\n",
       "    </tr>\n",
       "    <tr>\n",
       "      <th>0</th>\n",
       "      <td>DummyClassifier</td>\n",
       "      <td>train</td>\n",
       "      <td>0.70</td>\n",
       "      <td>0.70</td>\n",
       "      <td>1.00</td>\n",
       "      <td>0.82</td>\n",
       "    </tr>\n",
       "  </tbody>\n",
       "</table>\n",
       "</div>"
      ],
      "text/plain": [
       "             Model Dataset  Accuracy  Precision  Recall  F1_Score\n",
       "2     RandomForest   train      1.00       1.00    1.00      1.00\n",
       "6        DropoutNN   train      0.83       0.83    0.84      0.83\n",
       "4         SimpleNN   train      0.83       0.87    0.78      0.82\n",
       "0  DummyClassifier   train      0.70       0.70    1.00      0.82"
      ]
     },
     "metadata": {},
     "output_type": "display_data"
    }
   ],
   "source": [
    "# Display Test results\n",
    "display(df_results_filtered[df_results_filtered['Dataset'] == 'test'].sort_values('Accuracy', ascending=False).round(2))\n",
    "\n",
    "# Display Train results \n",
    "display(df_results_filtered[df_results_filtered['Dataset'] == 'train'].sort_values('Accuracy', ascending=False).round(2))"
   ]
  },
  {
   "cell_type": "markdown",
   "metadata": {},
   "source": [
    "#### Look at the Confusion Matrix"
   ]
  },
  {
   "cell_type": "code",
   "execution_count": 3489,
   "metadata": {},
   "outputs": [],
   "source": [
    "def plot_confusion_matrices(df_results):\n",
    "    \"\"\"\n",
    "    Plot confusion matrices for each model in the evaluation results DataFrame.\n",
    "\n",
    "    Args:\n",
    "        df_results (DataFrame): DataFrame containing the evaluation results, including confusion matrices.\n",
    "    \"\"\"\n",
    "    \n",
    "    # Define the models to be plotted\n",
    "    models = ['SimpleNN', 'DropoutNN', 'DummyClassifier', 'RandomForest']\n",
    "    \n",
    "    # Initialize subplots\n",
    "    fig, ax = plt.subplots(2, 2, figsize=(15, 10))\n",
    "\n",
    "    # Flatten the axes array for easier iteration\n",
    "    ax = ax.flatten()\n",
    "\n",
    "    # Plot confusion matrices for each model\n",
    "    for ax, model in zip(ax, models):\n",
    "        \n",
    "        # Get the confusion matrix for the model and dataset (test)\n",
    "        conf_matrix = df_results.loc[\n",
    "            (df_results['Model'] == model) & (df_results['Dataset'] == 'test'),\n",
    "            'Confusion_Matrix'\n",
    "        ].values[0]\n",
    "\n",
    "        # Plot the confusion matrix\n",
    "        ms.ConfusionMatrixDisplay(conf_matrix).plot(ax=ax, colorbar=True)\n",
    "        ax.set_title(f'{model}')\n",
    "        ax.set_xticklabels(['Good', 'Bad'])\n",
    "        ax.set_yticklabels(['Good', 'Bad'])\n",
    "\n",
    "    # Set the title for the figure\n",
    "    fig.suptitle('Confusion Matrix for All Models', fontsize=15)\n",
    "    plt.show()\n"
   ]
  },
  {
   "cell_type": "code",
   "execution_count": 3490,
   "metadata": {},
   "outputs": [
    {
     "data": {
      "image/png": "[encoded data removed]",
      "text/plain": [
       "<Figure size 1500x1000 with 8 Axes>"
      ]
     },
     "metadata": {},
     "output_type": "display_data"
    }
   ],
   "source": [
    "# Assuming df_results contains the evaluation results including confusion matrices\n",
    "plot_confusion_matrices(df_results)"
   ]
  },
  {
   "cell_type": "markdown",
   "metadata": {},
   "source": [
    "## Task 7 – Conclusions and Future Work"
   ]
  },
  {
   "cell_type": "markdown",
   "metadata": {},
   "source": [
    "**Note**: This experiment was created with the help of ChatGPT and the GitHub Copilot."
   ]
  }
 ],
 "metadata": {
  "kernelspec": {
   "display_name": "env_dl",
   "language": "python",
   "name": "python3"
  },
  "language_info": {
   "codemirror_mode": {
    "name": "ipython",
    "version": 3
   },
   "file_extension": ".py",
   "mimetype": "text/x-python",
   "name": "python",
   "nbconvert_exporter": "python",
   "pygments_lexer": "ipython3",
   "version": "3.12.3"
  }
 },
 "nbformat": 4,
 "nbformat_minor": 2
}
